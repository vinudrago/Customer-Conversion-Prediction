{
  "nbformat": 4,
  "nbformat_minor": 0,
  "metadata": {
    "colab": {
      "provenance": [],
      "collapsed_sections": [
        "-CVJoO6w_uRY",
        "dri7qI5V-RFR",
        "M53DepUlB9cS"
      ],
      "authorship_tag": "ABX9TyP59uH4K5q3lCnkTGyrLpen",
      "include_colab_link": true
    },
    "kernelspec": {
      "name": "python3",
      "display_name": "Python 3"
    },
    "language_info": {
      "name": "python"
    }
  },
  "cells": [
    {
      "cell_type": "markdown",
      "metadata": {
        "id": "view-in-github",
        "colab_type": "text"
      },
      "source": [
        "<a href=\"https://colab.research.google.com/github/vinudrago/Customer-Conversion-Prediction/blob/main/Customer_Conversion_Prediction.ipynb\" target=\"_parent\"><img src=\"https://colab.research.google.com/assets/colab-badge.svg\" alt=\"Open In Colab\"/></a>"
      ]
    },
    {
      "cell_type": "markdown",
      "source": [
        "# **Customer Conversion Prediction**"
      ],
      "metadata": {
        "id": "Xtd-Tie7ZhR_"
      }
    },
    {
      "cell_type": "markdown",
      "source": [
        "### **Problem Statement**\n",
        "You are working for a new-age insurance company and employ mutiple outreach plans to sell term insurance to your customers. Telephonic marketing campaigns still remain one of the most effective way to reach out to people however they incur a lot of cost. Hence, it is important to identify the customers that are most likely to convert beforehand so that they can be specifically targeted via call. We are given the historical marketing data of the insurance company and are required to build a ML model that will predict if a client will subscribe to the insurance.\n"
      ],
      "metadata": {
        "id": "c1tU0UeqaCvb"
      }
    },
    {
      "cell_type": "markdown",
      "source": [
        "### **Features:**\n",
        "\n",
        "*  age (numeric)\n",
        "*   job : type of job\n",
        "*   marital : marital status\n",
        "*   educational_qual : education status\n",
        "*   call_type : contact communication type\n",
        "*   day: last contact day of the month (numeric)\n",
        "*   mon: last contact month of year\n",
        "*   dur: last contact duration, in seconds (numeric)\n",
        "*   num_calls: number of contacts performed during this campaign and for this   client\n",
        "*   prev_outcome: outcome of the previous marketing campaign (categorical: \"unknown\",\"other\",\"failure\",\"success\")\n",
        "\n",
        "\n",
        "*   Output variable (desired target):\n",
        "y - has the client subscribed to the insurance?\n",
        "\n",
        "\n",
        "♦♦♦♦♦♦♦♦♦♦♦♦♦♦♦♦♦♦♦♦♦♦♦♦♦♦♦♦♦♦♦♦♦♦♦♦♦♦♦♦♦♦♦♦♦♦♦♦♦♦♦♦♦♦♦♦♦♦♦♦♦♦♦♦♦♦♦♦♦♦♦♦♦♦♦♦♦♦♦♦\n",
        "\n"
      ],
      "metadata": {
        "id": "QZ0R9Ld3aZxQ"
      }
    },
    {
      "cell_type": "markdown",
      "source": [
        "# **Basic Analysis of Dataset from Problem Statement and Features**\n",
        "\n",
        "*   It is a supervised learning problem - We are predicting target variable\n",
        "*   From target varible we can clearly understand it is a classification problem\n",
        "*   From target variable we can tell it is a binary classification problem.   target = (y/n)"
      ],
      "metadata": {
        "id": "2GaCuuwaamOG"
      }
    },
    {
      "cell_type": "markdown",
      "source": [
        "# **Importing Libraries**"
      ],
      "metadata": {
        "id": "C0X60MDFaq18"
      }
    },
    {
      "cell_type": "code",
      "source": [
        "import pandas as pd\n",
        "import numpy as np\n",
        "import matplotlib.pyplot as plt\n",
        "import seaborn as sns"
      ],
      "metadata": {
        "id": "Z6cxIf7kEtv4"
      },
      "execution_count": 6,
      "outputs": []
    },
    {
      "cell_type": "code",
      "source": [
        "#To ignore warnings\n",
        "import warnings\n",
        "warnings.filterwarnings(\"ignore\")"
      ],
      "metadata": {
        "id": "KJ1QWuU3Etyx"
      },
      "execution_count": 7,
      "outputs": []
    },
    {
      "cell_type": "markdown",
      "source": [
        "# **Loading Dataset**"
      ],
      "metadata": {
        "id": "G_UuLoc3a32N"
      }
    },
    {
      "cell_type": "code",
      "source": [
        "df=pd.read_csv(\"/content/train.csv\")"
      ],
      "metadata": {
        "id": "LGU0-CiVEt1_"
      },
      "execution_count": 8,
      "outputs": []
    },
    {
      "cell_type": "markdown",
      "source": [
        "# **Analysis of Data**"
      ],
      "metadata": {
        "id": "RtC264d3bxeZ"
      }
    },
    {
      "cell_type": "code",
      "source": [
        "# Checking size of dataset\n",
        "print(\"Data set size : \", df.shape)"
      ],
      "metadata": {
        "id": "iqag7WO2Et5Z",
        "colab": {
          "base_uri": "https://localhost:8080/"
        },
        "outputId": "168535ca-2419-405d-9141-ddeebde37899"
      },
      "execution_count": 9,
      "outputs": [
        {
          "output_type": "stream",
          "name": "stdout",
          "text": [
            "Data set size :  (45211, 11)\n"
          ]
        }
      ]
    },
    {
      "cell_type": "markdown",
      "source": [
        "From the above result no of rows are 45211 and no of columns are 11"
      ],
      "metadata": {
        "id": "0rDXQ2pob4nm"
      }
    },
    {
      "cell_type": "code",
      "source": [
        "#Fetching top 5 row in dataset\n",
        "df.head()"
      ],
      "metadata": {
        "colab": {
          "base_uri": "https://localhost:8080/",
          "height": 206
        },
        "id": "9GRb46yEcbvb",
        "outputId": "72baf9f2-2d69-414d-c95e-1d5177107d77"
      },
      "execution_count": 10,
      "outputs": [
        {
          "output_type": "execute_result",
          "data": {
            "text/plain": [
              "   age           job  marital education_qual call_type  day  mon  dur  \\\n",
              "0   58    management  married       tertiary   unknown    5  may  261   \n",
              "1   44    technician   single      secondary   unknown    5  may  151   \n",
              "2   33  entrepreneur  married      secondary   unknown    5  may   76   \n",
              "3   47   blue-collar  married        unknown   unknown    5  may   92   \n",
              "4   33       unknown   single        unknown   unknown    5  may  198   \n",
              "\n",
              "   num_calls prev_outcome   y  \n",
              "0          1      unknown  no  \n",
              "1          1      unknown  no  \n",
              "2          1      unknown  no  \n",
              "3          1      unknown  no  \n",
              "4          1      unknown  no  "
            ],
            "text/html": [
              "\n",
              "  <div id=\"df-7cf9335c-56f6-4907-bcd1-1d2ffdeef869\" class=\"colab-df-container\">\n",
              "    <div>\n",
              "<style scoped>\n",
              "    .dataframe tbody tr th:only-of-type {\n",
              "        vertical-align: middle;\n",
              "    }\n",
              "\n",
              "    .dataframe tbody tr th {\n",
              "        vertical-align: top;\n",
              "    }\n",
              "\n",
              "    .dataframe thead th {\n",
              "        text-align: right;\n",
              "    }\n",
              "</style>\n",
              "<table border=\"1\" class=\"dataframe\">\n",
              "  <thead>\n",
              "    <tr style=\"text-align: right;\">\n",
              "      <th></th>\n",
              "      <th>age</th>\n",
              "      <th>job</th>\n",
              "      <th>marital</th>\n",
              "      <th>education_qual</th>\n",
              "      <th>call_type</th>\n",
              "      <th>day</th>\n",
              "      <th>mon</th>\n",
              "      <th>dur</th>\n",
              "      <th>num_calls</th>\n",
              "      <th>prev_outcome</th>\n",
              "      <th>y</th>\n",
              "    </tr>\n",
              "  </thead>\n",
              "  <tbody>\n",
              "    <tr>\n",
              "      <th>0</th>\n",
              "      <td>58</td>\n",
              "      <td>management</td>\n",
              "      <td>married</td>\n",
              "      <td>tertiary</td>\n",
              "      <td>unknown</td>\n",
              "      <td>5</td>\n",
              "      <td>may</td>\n",
              "      <td>261</td>\n",
              "      <td>1</td>\n",
              "      <td>unknown</td>\n",
              "      <td>no</td>\n",
              "    </tr>\n",
              "    <tr>\n",
              "      <th>1</th>\n",
              "      <td>44</td>\n",
              "      <td>technician</td>\n",
              "      <td>single</td>\n",
              "      <td>secondary</td>\n",
              "      <td>unknown</td>\n",
              "      <td>5</td>\n",
              "      <td>may</td>\n",
              "      <td>151</td>\n",
              "      <td>1</td>\n",
              "      <td>unknown</td>\n",
              "      <td>no</td>\n",
              "    </tr>\n",
              "    <tr>\n",
              "      <th>2</th>\n",
              "      <td>33</td>\n",
              "      <td>entrepreneur</td>\n",
              "      <td>married</td>\n",
              "      <td>secondary</td>\n",
              "      <td>unknown</td>\n",
              "      <td>5</td>\n",
              "      <td>may</td>\n",
              "      <td>76</td>\n",
              "      <td>1</td>\n",
              "      <td>unknown</td>\n",
              "      <td>no</td>\n",
              "    </tr>\n",
              "    <tr>\n",
              "      <th>3</th>\n",
              "      <td>47</td>\n",
              "      <td>blue-collar</td>\n",
              "      <td>married</td>\n",
              "      <td>unknown</td>\n",
              "      <td>unknown</td>\n",
              "      <td>5</td>\n",
              "      <td>may</td>\n",
              "      <td>92</td>\n",
              "      <td>1</td>\n",
              "      <td>unknown</td>\n",
              "      <td>no</td>\n",
              "    </tr>\n",
              "    <tr>\n",
              "      <th>4</th>\n",
              "      <td>33</td>\n",
              "      <td>unknown</td>\n",
              "      <td>single</td>\n",
              "      <td>unknown</td>\n",
              "      <td>unknown</td>\n",
              "      <td>5</td>\n",
              "      <td>may</td>\n",
              "      <td>198</td>\n",
              "      <td>1</td>\n",
              "      <td>unknown</td>\n",
              "      <td>no</td>\n",
              "    </tr>\n",
              "  </tbody>\n",
              "</table>\n",
              "</div>\n",
              "    <div class=\"colab-df-buttons\">\n",
              "\n",
              "  <div class=\"colab-df-container\">\n",
              "    <button class=\"colab-df-convert\" onclick=\"convertToInteractive('df-7cf9335c-56f6-4907-bcd1-1d2ffdeef869')\"\n",
              "            title=\"Convert this dataframe to an interactive table.\"\n",
              "            style=\"display:none;\">\n",
              "\n",
              "  <svg xmlns=\"http://www.w3.org/2000/svg\" height=\"24px\" viewBox=\"0 -960 960 960\">\n",
              "    <path d=\"M120-120v-720h720v720H120Zm60-500h600v-160H180v160Zm220 220h160v-160H400v160Zm0 220h160v-160H400v160ZM180-400h160v-160H180v160Zm440 0h160v-160H620v160ZM180-180h160v-160H180v160Zm440 0h160v-160H620v160Z\"/>\n",
              "  </svg>\n",
              "    </button>\n",
              "\n",
              "  <style>\n",
              "    .colab-df-container {\n",
              "      display:flex;\n",
              "      gap: 12px;\n",
              "    }\n",
              "\n",
              "    .colab-df-convert {\n",
              "      background-color: #E8F0FE;\n",
              "      border: none;\n",
              "      border-radius: 50%;\n",
              "      cursor: pointer;\n",
              "      display: none;\n",
              "      fill: #1967D2;\n",
              "      height: 32px;\n",
              "      padding: 0 0 0 0;\n",
              "      width: 32px;\n",
              "    }\n",
              "\n",
              "    .colab-df-convert:hover {\n",
              "      background-color: #E2EBFA;\n",
              "      box-shadow: 0px 1px 2px rgba(60, 64, 67, 0.3), 0px 1px 3px 1px rgba(60, 64, 67, 0.15);\n",
              "      fill: #174EA6;\n",
              "    }\n",
              "\n",
              "    .colab-df-buttons div {\n",
              "      margin-bottom: 4px;\n",
              "    }\n",
              "\n",
              "    [theme=dark] .colab-df-convert {\n",
              "      background-color: #3B4455;\n",
              "      fill: #D2E3FC;\n",
              "    }\n",
              "\n",
              "    [theme=dark] .colab-df-convert:hover {\n",
              "      background-color: #434B5C;\n",
              "      box-shadow: 0px 1px 3px 1px rgba(0, 0, 0, 0.15);\n",
              "      filter: drop-shadow(0px 1px 2px rgba(0, 0, 0, 0.3));\n",
              "      fill: #FFFFFF;\n",
              "    }\n",
              "  </style>\n",
              "\n",
              "    <script>\n",
              "      const buttonEl =\n",
              "        document.querySelector('#df-7cf9335c-56f6-4907-bcd1-1d2ffdeef869 button.colab-df-convert');\n",
              "      buttonEl.style.display =\n",
              "        google.colab.kernel.accessAllowed ? 'block' : 'none';\n",
              "\n",
              "      async function convertToInteractive(key) {\n",
              "        const element = document.querySelector('#df-7cf9335c-56f6-4907-bcd1-1d2ffdeef869');\n",
              "        const dataTable =\n",
              "          await google.colab.kernel.invokeFunction('convertToInteractive',\n",
              "                                                    [key], {});\n",
              "        if (!dataTable) return;\n",
              "\n",
              "        const docLinkHtml = 'Like what you see? Visit the ' +\n",
              "          '<a target=\"_blank\" href=https://colab.research.google.com/notebooks/data_table.ipynb>data table notebook</a>'\n",
              "          + ' to learn more about interactive tables.';\n",
              "        element.innerHTML = '';\n",
              "        dataTable['output_type'] = 'display_data';\n",
              "        await google.colab.output.renderOutput(dataTable, element);\n",
              "        const docLink = document.createElement('div');\n",
              "        docLink.innerHTML = docLinkHtml;\n",
              "        element.appendChild(docLink);\n",
              "      }\n",
              "    </script>\n",
              "  </div>\n",
              "\n",
              "\n",
              "<div id=\"df-a8340711-6f7c-4c57-b400-fb7880ae15c6\">\n",
              "  <button class=\"colab-df-quickchart\" onclick=\"quickchart('df-a8340711-6f7c-4c57-b400-fb7880ae15c6')\"\n",
              "            title=\"Suggest charts.\"\n",
              "            style=\"display:none;\">\n",
              "\n",
              "<svg xmlns=\"http://www.w3.org/2000/svg\" height=\"24px\"viewBox=\"0 0 24 24\"\n",
              "     width=\"24px\">\n",
              "    <g>\n",
              "        <path d=\"M19 3H5c-1.1 0-2 .9-2 2v14c0 1.1.9 2 2 2h14c1.1 0 2-.9 2-2V5c0-1.1-.9-2-2-2zM9 17H7v-7h2v7zm4 0h-2V7h2v10zm4 0h-2v-4h2v4z\"/>\n",
              "    </g>\n",
              "</svg>\n",
              "  </button>\n",
              "\n",
              "<style>\n",
              "  .colab-df-quickchart {\n",
              "      --bg-color: #E8F0FE;\n",
              "      --fill-color: #1967D2;\n",
              "      --hover-bg-color: #E2EBFA;\n",
              "      --hover-fill-color: #174EA6;\n",
              "      --disabled-fill-color: #AAA;\n",
              "      --disabled-bg-color: #DDD;\n",
              "  }\n",
              "\n",
              "  [theme=dark] .colab-df-quickchart {\n",
              "      --bg-color: #3B4455;\n",
              "      --fill-color: #D2E3FC;\n",
              "      --hover-bg-color: #434B5C;\n",
              "      --hover-fill-color: #FFFFFF;\n",
              "      --disabled-bg-color: #3B4455;\n",
              "      --disabled-fill-color: #666;\n",
              "  }\n",
              "\n",
              "  .colab-df-quickchart {\n",
              "    background-color: var(--bg-color);\n",
              "    border: none;\n",
              "    border-radius: 50%;\n",
              "    cursor: pointer;\n",
              "    display: none;\n",
              "    fill: var(--fill-color);\n",
              "    height: 32px;\n",
              "    padding: 0;\n",
              "    width: 32px;\n",
              "  }\n",
              "\n",
              "  .colab-df-quickchart:hover {\n",
              "    background-color: var(--hover-bg-color);\n",
              "    box-shadow: 0 1px 2px rgba(60, 64, 67, 0.3), 0 1px 3px 1px rgba(60, 64, 67, 0.15);\n",
              "    fill: var(--button-hover-fill-color);\n",
              "  }\n",
              "\n",
              "  .colab-df-quickchart-complete:disabled,\n",
              "  .colab-df-quickchart-complete:disabled:hover {\n",
              "    background-color: var(--disabled-bg-color);\n",
              "    fill: var(--disabled-fill-color);\n",
              "    box-shadow: none;\n",
              "  }\n",
              "\n",
              "  .colab-df-spinner {\n",
              "    border: 2px solid var(--fill-color);\n",
              "    border-color: transparent;\n",
              "    border-bottom-color: var(--fill-color);\n",
              "    animation:\n",
              "      spin 1s steps(1) infinite;\n",
              "  }\n",
              "\n",
              "  @keyframes spin {\n",
              "    0% {\n",
              "      border-color: transparent;\n",
              "      border-bottom-color: var(--fill-color);\n",
              "      border-left-color: var(--fill-color);\n",
              "    }\n",
              "    20% {\n",
              "      border-color: transparent;\n",
              "      border-left-color: var(--fill-color);\n",
              "      border-top-color: var(--fill-color);\n",
              "    }\n",
              "    30% {\n",
              "      border-color: transparent;\n",
              "      border-left-color: var(--fill-color);\n",
              "      border-top-color: var(--fill-color);\n",
              "      border-right-color: var(--fill-color);\n",
              "    }\n",
              "    40% {\n",
              "      border-color: transparent;\n",
              "      border-right-color: var(--fill-color);\n",
              "      border-top-color: var(--fill-color);\n",
              "    }\n",
              "    60% {\n",
              "      border-color: transparent;\n",
              "      border-right-color: var(--fill-color);\n",
              "    }\n",
              "    80% {\n",
              "      border-color: transparent;\n",
              "      border-right-color: var(--fill-color);\n",
              "      border-bottom-color: var(--fill-color);\n",
              "    }\n",
              "    90% {\n",
              "      border-color: transparent;\n",
              "      border-bottom-color: var(--fill-color);\n",
              "    }\n",
              "  }\n",
              "</style>\n",
              "\n",
              "  <script>\n",
              "    async function quickchart(key) {\n",
              "      const quickchartButtonEl =\n",
              "        document.querySelector('#' + key + ' button');\n",
              "      quickchartButtonEl.disabled = true;  // To prevent multiple clicks.\n",
              "      quickchartButtonEl.classList.add('colab-df-spinner');\n",
              "      try {\n",
              "        const charts = await google.colab.kernel.invokeFunction(\n",
              "            'suggestCharts', [key], {});\n",
              "      } catch (error) {\n",
              "        console.error('Error during call to suggestCharts:', error);\n",
              "      }\n",
              "      quickchartButtonEl.classList.remove('colab-df-spinner');\n",
              "      quickchartButtonEl.classList.add('colab-df-quickchart-complete');\n",
              "    }\n",
              "    (() => {\n",
              "      let quickchartButtonEl =\n",
              "        document.querySelector('#df-a8340711-6f7c-4c57-b400-fb7880ae15c6 button');\n",
              "      quickchartButtonEl.style.display =\n",
              "        google.colab.kernel.accessAllowed ? 'block' : 'none';\n",
              "    })();\n",
              "  </script>\n",
              "</div>\n",
              "    </div>\n",
              "  </div>\n"
            ]
          },
          "metadata": {},
          "execution_count": 10
        }
      ]
    },
    {
      "cell_type": "code",
      "source": [
        "#Fetching Bottom 5 rows\n",
        "df.tail()"
      ],
      "metadata": {
        "id": "hWiiRM2yEt-f",
        "colab": {
          "base_uri": "https://localhost:8080/",
          "height": 206
        },
        "outputId": "351c0180-a5dd-4d33-d25e-3546e98388dd"
      },
      "execution_count": 11,
      "outputs": [
        {
          "output_type": "execute_result",
          "data": {
            "text/plain": [
              "       age           job   marital education_qual  call_type  day  mon   dur  \\\n",
              "45206   51    technician   married       tertiary   cellular   17  nov   977   \n",
              "45207   71       retired  divorced        primary   cellular   17  nov   456   \n",
              "45208   72       retired   married      secondary   cellular   17  nov  1127   \n",
              "45209   57   blue-collar   married      secondary  telephone   17  nov   508   \n",
              "45210   37  entrepreneur   married      secondary   cellular   17  nov   361   \n",
              "\n",
              "       num_calls prev_outcome    y  \n",
              "45206          3      unknown  yes  \n",
              "45207          2      unknown  yes  \n",
              "45208          5      success  yes  \n",
              "45209          4      unknown   no  \n",
              "45210          2        other   no  "
            ],
            "text/html": [
              "\n",
              "  <div id=\"df-36547452-1f8f-471f-b7f3-8d42f0cc4315\" class=\"colab-df-container\">\n",
              "    <div>\n",
              "<style scoped>\n",
              "    .dataframe tbody tr th:only-of-type {\n",
              "        vertical-align: middle;\n",
              "    }\n",
              "\n",
              "    .dataframe tbody tr th {\n",
              "        vertical-align: top;\n",
              "    }\n",
              "\n",
              "    .dataframe thead th {\n",
              "        text-align: right;\n",
              "    }\n",
              "</style>\n",
              "<table border=\"1\" class=\"dataframe\">\n",
              "  <thead>\n",
              "    <tr style=\"text-align: right;\">\n",
              "      <th></th>\n",
              "      <th>age</th>\n",
              "      <th>job</th>\n",
              "      <th>marital</th>\n",
              "      <th>education_qual</th>\n",
              "      <th>call_type</th>\n",
              "      <th>day</th>\n",
              "      <th>mon</th>\n",
              "      <th>dur</th>\n",
              "      <th>num_calls</th>\n",
              "      <th>prev_outcome</th>\n",
              "      <th>y</th>\n",
              "    </tr>\n",
              "  </thead>\n",
              "  <tbody>\n",
              "    <tr>\n",
              "      <th>45206</th>\n",
              "      <td>51</td>\n",
              "      <td>technician</td>\n",
              "      <td>married</td>\n",
              "      <td>tertiary</td>\n",
              "      <td>cellular</td>\n",
              "      <td>17</td>\n",
              "      <td>nov</td>\n",
              "      <td>977</td>\n",
              "      <td>3</td>\n",
              "      <td>unknown</td>\n",
              "      <td>yes</td>\n",
              "    </tr>\n",
              "    <tr>\n",
              "      <th>45207</th>\n",
              "      <td>71</td>\n",
              "      <td>retired</td>\n",
              "      <td>divorced</td>\n",
              "      <td>primary</td>\n",
              "      <td>cellular</td>\n",
              "      <td>17</td>\n",
              "      <td>nov</td>\n",
              "      <td>456</td>\n",
              "      <td>2</td>\n",
              "      <td>unknown</td>\n",
              "      <td>yes</td>\n",
              "    </tr>\n",
              "    <tr>\n",
              "      <th>45208</th>\n",
              "      <td>72</td>\n",
              "      <td>retired</td>\n",
              "      <td>married</td>\n",
              "      <td>secondary</td>\n",
              "      <td>cellular</td>\n",
              "      <td>17</td>\n",
              "      <td>nov</td>\n",
              "      <td>1127</td>\n",
              "      <td>5</td>\n",
              "      <td>success</td>\n",
              "      <td>yes</td>\n",
              "    </tr>\n",
              "    <tr>\n",
              "      <th>45209</th>\n",
              "      <td>57</td>\n",
              "      <td>blue-collar</td>\n",
              "      <td>married</td>\n",
              "      <td>secondary</td>\n",
              "      <td>telephone</td>\n",
              "      <td>17</td>\n",
              "      <td>nov</td>\n",
              "      <td>508</td>\n",
              "      <td>4</td>\n",
              "      <td>unknown</td>\n",
              "      <td>no</td>\n",
              "    </tr>\n",
              "    <tr>\n",
              "      <th>45210</th>\n",
              "      <td>37</td>\n",
              "      <td>entrepreneur</td>\n",
              "      <td>married</td>\n",
              "      <td>secondary</td>\n",
              "      <td>cellular</td>\n",
              "      <td>17</td>\n",
              "      <td>nov</td>\n",
              "      <td>361</td>\n",
              "      <td>2</td>\n",
              "      <td>other</td>\n",
              "      <td>no</td>\n",
              "    </tr>\n",
              "  </tbody>\n",
              "</table>\n",
              "</div>\n",
              "    <div class=\"colab-df-buttons\">\n",
              "\n",
              "  <div class=\"colab-df-container\">\n",
              "    <button class=\"colab-df-convert\" onclick=\"convertToInteractive('df-36547452-1f8f-471f-b7f3-8d42f0cc4315')\"\n",
              "            title=\"Convert this dataframe to an interactive table.\"\n",
              "            style=\"display:none;\">\n",
              "\n",
              "  <svg xmlns=\"http://www.w3.org/2000/svg\" height=\"24px\" viewBox=\"0 -960 960 960\">\n",
              "    <path d=\"M120-120v-720h720v720H120Zm60-500h600v-160H180v160Zm220 220h160v-160H400v160Zm0 220h160v-160H400v160ZM180-400h160v-160H180v160Zm440 0h160v-160H620v160ZM180-180h160v-160H180v160Zm440 0h160v-160H620v160Z\"/>\n",
              "  </svg>\n",
              "    </button>\n",
              "\n",
              "  <style>\n",
              "    .colab-df-container {\n",
              "      display:flex;\n",
              "      gap: 12px;\n",
              "    }\n",
              "\n",
              "    .colab-df-convert {\n",
              "      background-color: #E8F0FE;\n",
              "      border: none;\n",
              "      border-radius: 50%;\n",
              "      cursor: pointer;\n",
              "      display: none;\n",
              "      fill: #1967D2;\n",
              "      height: 32px;\n",
              "      padding: 0 0 0 0;\n",
              "      width: 32px;\n",
              "    }\n",
              "\n",
              "    .colab-df-convert:hover {\n",
              "      background-color: #E2EBFA;\n",
              "      box-shadow: 0px 1px 2px rgba(60, 64, 67, 0.3), 0px 1px 3px 1px rgba(60, 64, 67, 0.15);\n",
              "      fill: #174EA6;\n",
              "    }\n",
              "\n",
              "    .colab-df-buttons div {\n",
              "      margin-bottom: 4px;\n",
              "    }\n",
              "\n",
              "    [theme=dark] .colab-df-convert {\n",
              "      background-color: #3B4455;\n",
              "      fill: #D2E3FC;\n",
              "    }\n",
              "\n",
              "    [theme=dark] .colab-df-convert:hover {\n",
              "      background-color: #434B5C;\n",
              "      box-shadow: 0px 1px 3px 1px rgba(0, 0, 0, 0.15);\n",
              "      filter: drop-shadow(0px 1px 2px rgba(0, 0, 0, 0.3));\n",
              "      fill: #FFFFFF;\n",
              "    }\n",
              "  </style>\n",
              "\n",
              "    <script>\n",
              "      const buttonEl =\n",
              "        document.querySelector('#df-36547452-1f8f-471f-b7f3-8d42f0cc4315 button.colab-df-convert');\n",
              "      buttonEl.style.display =\n",
              "        google.colab.kernel.accessAllowed ? 'block' : 'none';\n",
              "\n",
              "      async function convertToInteractive(key) {\n",
              "        const element = document.querySelector('#df-36547452-1f8f-471f-b7f3-8d42f0cc4315');\n",
              "        const dataTable =\n",
              "          await google.colab.kernel.invokeFunction('convertToInteractive',\n",
              "                                                    [key], {});\n",
              "        if (!dataTable) return;\n",
              "\n",
              "        const docLinkHtml = 'Like what you see? Visit the ' +\n",
              "          '<a target=\"_blank\" href=https://colab.research.google.com/notebooks/data_table.ipynb>data table notebook</a>'\n",
              "          + ' to learn more about interactive tables.';\n",
              "        element.innerHTML = '';\n",
              "        dataTable['output_type'] = 'display_data';\n",
              "        await google.colab.output.renderOutput(dataTable, element);\n",
              "        const docLink = document.createElement('div');\n",
              "        docLink.innerHTML = docLinkHtml;\n",
              "        element.appendChild(docLink);\n",
              "      }\n",
              "    </script>\n",
              "  </div>\n",
              "\n",
              "\n",
              "<div id=\"df-ad73fe88-45bf-4d53-8371-b2e224b11c54\">\n",
              "  <button class=\"colab-df-quickchart\" onclick=\"quickchart('df-ad73fe88-45bf-4d53-8371-b2e224b11c54')\"\n",
              "            title=\"Suggest charts.\"\n",
              "            style=\"display:none;\">\n",
              "\n",
              "<svg xmlns=\"http://www.w3.org/2000/svg\" height=\"24px\"viewBox=\"0 0 24 24\"\n",
              "     width=\"24px\">\n",
              "    <g>\n",
              "        <path d=\"M19 3H5c-1.1 0-2 .9-2 2v14c0 1.1.9 2 2 2h14c1.1 0 2-.9 2-2V5c0-1.1-.9-2-2-2zM9 17H7v-7h2v7zm4 0h-2V7h2v10zm4 0h-2v-4h2v4z\"/>\n",
              "    </g>\n",
              "</svg>\n",
              "  </button>\n",
              "\n",
              "<style>\n",
              "  .colab-df-quickchart {\n",
              "      --bg-color: #E8F0FE;\n",
              "      --fill-color: #1967D2;\n",
              "      --hover-bg-color: #E2EBFA;\n",
              "      --hover-fill-color: #174EA6;\n",
              "      --disabled-fill-color: #AAA;\n",
              "      --disabled-bg-color: #DDD;\n",
              "  }\n",
              "\n",
              "  [theme=dark] .colab-df-quickchart {\n",
              "      --bg-color: #3B4455;\n",
              "      --fill-color: #D2E3FC;\n",
              "      --hover-bg-color: #434B5C;\n",
              "      --hover-fill-color: #FFFFFF;\n",
              "      --disabled-bg-color: #3B4455;\n",
              "      --disabled-fill-color: #666;\n",
              "  }\n",
              "\n",
              "  .colab-df-quickchart {\n",
              "    background-color: var(--bg-color);\n",
              "    border: none;\n",
              "    border-radius: 50%;\n",
              "    cursor: pointer;\n",
              "    display: none;\n",
              "    fill: var(--fill-color);\n",
              "    height: 32px;\n",
              "    padding: 0;\n",
              "    width: 32px;\n",
              "  }\n",
              "\n",
              "  .colab-df-quickchart:hover {\n",
              "    background-color: var(--hover-bg-color);\n",
              "    box-shadow: 0 1px 2px rgba(60, 64, 67, 0.3), 0 1px 3px 1px rgba(60, 64, 67, 0.15);\n",
              "    fill: var(--button-hover-fill-color);\n",
              "  }\n",
              "\n",
              "  .colab-df-quickchart-complete:disabled,\n",
              "  .colab-df-quickchart-complete:disabled:hover {\n",
              "    background-color: var(--disabled-bg-color);\n",
              "    fill: var(--disabled-fill-color);\n",
              "    box-shadow: none;\n",
              "  }\n",
              "\n",
              "  .colab-df-spinner {\n",
              "    border: 2px solid var(--fill-color);\n",
              "    border-color: transparent;\n",
              "    border-bottom-color: var(--fill-color);\n",
              "    animation:\n",
              "      spin 1s steps(1) infinite;\n",
              "  }\n",
              "\n",
              "  @keyframes spin {\n",
              "    0% {\n",
              "      border-color: transparent;\n",
              "      border-bottom-color: var(--fill-color);\n",
              "      border-left-color: var(--fill-color);\n",
              "    }\n",
              "    20% {\n",
              "      border-color: transparent;\n",
              "      border-left-color: var(--fill-color);\n",
              "      border-top-color: var(--fill-color);\n",
              "    }\n",
              "    30% {\n",
              "      border-color: transparent;\n",
              "      border-left-color: var(--fill-color);\n",
              "      border-top-color: var(--fill-color);\n",
              "      border-right-color: var(--fill-color);\n",
              "    }\n",
              "    40% {\n",
              "      border-color: transparent;\n",
              "      border-right-color: var(--fill-color);\n",
              "      border-top-color: var(--fill-color);\n",
              "    }\n",
              "    60% {\n",
              "      border-color: transparent;\n",
              "      border-right-color: var(--fill-color);\n",
              "    }\n",
              "    80% {\n",
              "      border-color: transparent;\n",
              "      border-right-color: var(--fill-color);\n",
              "      border-bottom-color: var(--fill-color);\n",
              "    }\n",
              "    90% {\n",
              "      border-color: transparent;\n",
              "      border-bottom-color: var(--fill-color);\n",
              "    }\n",
              "  }\n",
              "</style>\n",
              "\n",
              "  <script>\n",
              "    async function quickchart(key) {\n",
              "      const quickchartButtonEl =\n",
              "        document.querySelector('#' + key + ' button');\n",
              "      quickchartButtonEl.disabled = true;  // To prevent multiple clicks.\n",
              "      quickchartButtonEl.classList.add('colab-df-spinner');\n",
              "      try {\n",
              "        const charts = await google.colab.kernel.invokeFunction(\n",
              "            'suggestCharts', [key], {});\n",
              "      } catch (error) {\n",
              "        console.error('Error during call to suggestCharts:', error);\n",
              "      }\n",
              "      quickchartButtonEl.classList.remove('colab-df-spinner');\n",
              "      quickchartButtonEl.classList.add('colab-df-quickchart-complete');\n",
              "    }\n",
              "    (() => {\n",
              "      let quickchartButtonEl =\n",
              "        document.querySelector('#df-ad73fe88-45bf-4d53-8371-b2e224b11c54 button');\n",
              "      quickchartButtonEl.style.display =\n",
              "        google.colab.kernel.accessAllowed ? 'block' : 'none';\n",
              "    })();\n",
              "  </script>\n",
              "</div>\n",
              "    </div>\n",
              "  </div>\n"
            ]
          },
          "metadata": {},
          "execution_count": 11
        }
      ]
    },
    {
      "cell_type": "code",
      "source": [
        "#finding the column names\n",
        "df.columns"
      ],
      "metadata": {
        "id": "noDhAqAjEuBV",
        "colab": {
          "base_uri": "https://localhost:8080/"
        },
        "outputId": "30867b2b-598d-4544-a886-6bd027857098"
      },
      "execution_count": 12,
      "outputs": [
        {
          "output_type": "execute_result",
          "data": {
            "text/plain": [
              "Index(['age', 'job', 'marital', 'education_qual', 'call_type', 'day', 'mon',\n",
              "       'dur', 'num_calls', 'prev_outcome', 'y'],\n",
              "      dtype='object')"
            ]
          },
          "metadata": {},
          "execution_count": 12
        }
      ]
    },
    {
      "cell_type": "code",
      "source": [
        "#Basic statistical analysis of dataset\n",
        "df.describe()"
      ],
      "metadata": {
        "id": "w5yQmq2bEuEr",
        "colab": {
          "base_uri": "https://localhost:8080/",
          "height": 300
        },
        "outputId": "9958ea76-b9b8-4564-f827-a39f7b2be37b"
      },
      "execution_count": 13,
      "outputs": [
        {
          "output_type": "execute_result",
          "data": {
            "text/plain": [
              "                age           day           dur     num_calls\n",
              "count  45211.000000  45211.000000  45211.000000  45211.000000\n",
              "mean      40.936210     15.806419    258.163080      2.763841\n",
              "std       10.618762      8.322476    257.527812      3.098021\n",
              "min       18.000000      1.000000      0.000000      1.000000\n",
              "25%       33.000000      8.000000    103.000000      1.000000\n",
              "50%       39.000000     16.000000    180.000000      2.000000\n",
              "75%       48.000000     21.000000    319.000000      3.000000\n",
              "max       95.000000     31.000000   4918.000000     63.000000"
            ],
            "text/html": [
              "\n",
              "  <div id=\"df-1e123350-b53e-47e7-ae19-5bef8534aa39\" class=\"colab-df-container\">\n",
              "    <div>\n",
              "<style scoped>\n",
              "    .dataframe tbody tr th:only-of-type {\n",
              "        vertical-align: middle;\n",
              "    }\n",
              "\n",
              "    .dataframe tbody tr th {\n",
              "        vertical-align: top;\n",
              "    }\n",
              "\n",
              "    .dataframe thead th {\n",
              "        text-align: right;\n",
              "    }\n",
              "</style>\n",
              "<table border=\"1\" class=\"dataframe\">\n",
              "  <thead>\n",
              "    <tr style=\"text-align: right;\">\n",
              "      <th></th>\n",
              "      <th>age</th>\n",
              "      <th>day</th>\n",
              "      <th>dur</th>\n",
              "      <th>num_calls</th>\n",
              "    </tr>\n",
              "  </thead>\n",
              "  <tbody>\n",
              "    <tr>\n",
              "      <th>count</th>\n",
              "      <td>45211.000000</td>\n",
              "      <td>45211.000000</td>\n",
              "      <td>45211.000000</td>\n",
              "      <td>45211.000000</td>\n",
              "    </tr>\n",
              "    <tr>\n",
              "      <th>mean</th>\n",
              "      <td>40.936210</td>\n",
              "      <td>15.806419</td>\n",
              "      <td>258.163080</td>\n",
              "      <td>2.763841</td>\n",
              "    </tr>\n",
              "    <tr>\n",
              "      <th>std</th>\n",
              "      <td>10.618762</td>\n",
              "      <td>8.322476</td>\n",
              "      <td>257.527812</td>\n",
              "      <td>3.098021</td>\n",
              "    </tr>\n",
              "    <tr>\n",
              "      <th>min</th>\n",
              "      <td>18.000000</td>\n",
              "      <td>1.000000</td>\n",
              "      <td>0.000000</td>\n",
              "      <td>1.000000</td>\n",
              "    </tr>\n",
              "    <tr>\n",
              "      <th>25%</th>\n",
              "      <td>33.000000</td>\n",
              "      <td>8.000000</td>\n",
              "      <td>103.000000</td>\n",
              "      <td>1.000000</td>\n",
              "    </tr>\n",
              "    <tr>\n",
              "      <th>50%</th>\n",
              "      <td>39.000000</td>\n",
              "      <td>16.000000</td>\n",
              "      <td>180.000000</td>\n",
              "      <td>2.000000</td>\n",
              "    </tr>\n",
              "    <tr>\n",
              "      <th>75%</th>\n",
              "      <td>48.000000</td>\n",
              "      <td>21.000000</td>\n",
              "      <td>319.000000</td>\n",
              "      <td>3.000000</td>\n",
              "    </tr>\n",
              "    <tr>\n",
              "      <th>max</th>\n",
              "      <td>95.000000</td>\n",
              "      <td>31.000000</td>\n",
              "      <td>4918.000000</td>\n",
              "      <td>63.000000</td>\n",
              "    </tr>\n",
              "  </tbody>\n",
              "</table>\n",
              "</div>\n",
              "    <div class=\"colab-df-buttons\">\n",
              "\n",
              "  <div class=\"colab-df-container\">\n",
              "    <button class=\"colab-df-convert\" onclick=\"convertToInteractive('df-1e123350-b53e-47e7-ae19-5bef8534aa39')\"\n",
              "            title=\"Convert this dataframe to an interactive table.\"\n",
              "            style=\"display:none;\">\n",
              "\n",
              "  <svg xmlns=\"http://www.w3.org/2000/svg\" height=\"24px\" viewBox=\"0 -960 960 960\">\n",
              "    <path d=\"M120-120v-720h720v720H120Zm60-500h600v-160H180v160Zm220 220h160v-160H400v160Zm0 220h160v-160H400v160ZM180-400h160v-160H180v160Zm440 0h160v-160H620v160ZM180-180h160v-160H180v160Zm440 0h160v-160H620v160Z\"/>\n",
              "  </svg>\n",
              "    </button>\n",
              "\n",
              "  <style>\n",
              "    .colab-df-container {\n",
              "      display:flex;\n",
              "      gap: 12px;\n",
              "    }\n",
              "\n",
              "    .colab-df-convert {\n",
              "      background-color: #E8F0FE;\n",
              "      border: none;\n",
              "      border-radius: 50%;\n",
              "      cursor: pointer;\n",
              "      display: none;\n",
              "      fill: #1967D2;\n",
              "      height: 32px;\n",
              "      padding: 0 0 0 0;\n",
              "      width: 32px;\n",
              "    }\n",
              "\n",
              "    .colab-df-convert:hover {\n",
              "      background-color: #E2EBFA;\n",
              "      box-shadow: 0px 1px 2px rgba(60, 64, 67, 0.3), 0px 1px 3px 1px rgba(60, 64, 67, 0.15);\n",
              "      fill: #174EA6;\n",
              "    }\n",
              "\n",
              "    .colab-df-buttons div {\n",
              "      margin-bottom: 4px;\n",
              "    }\n",
              "\n",
              "    [theme=dark] .colab-df-convert {\n",
              "      background-color: #3B4455;\n",
              "      fill: #D2E3FC;\n",
              "    }\n",
              "\n",
              "    [theme=dark] .colab-df-convert:hover {\n",
              "      background-color: #434B5C;\n",
              "      box-shadow: 0px 1px 3px 1px rgba(0, 0, 0, 0.15);\n",
              "      filter: drop-shadow(0px 1px 2px rgba(0, 0, 0, 0.3));\n",
              "      fill: #FFFFFF;\n",
              "    }\n",
              "  </style>\n",
              "\n",
              "    <script>\n",
              "      const buttonEl =\n",
              "        document.querySelector('#df-1e123350-b53e-47e7-ae19-5bef8534aa39 button.colab-df-convert');\n",
              "      buttonEl.style.display =\n",
              "        google.colab.kernel.accessAllowed ? 'block' : 'none';\n",
              "\n",
              "      async function convertToInteractive(key) {\n",
              "        const element = document.querySelector('#df-1e123350-b53e-47e7-ae19-5bef8534aa39');\n",
              "        const dataTable =\n",
              "          await google.colab.kernel.invokeFunction('convertToInteractive',\n",
              "                                                    [key], {});\n",
              "        if (!dataTable) return;\n",
              "\n",
              "        const docLinkHtml = 'Like what you see? Visit the ' +\n",
              "          '<a target=\"_blank\" href=https://colab.research.google.com/notebooks/data_table.ipynb>data table notebook</a>'\n",
              "          + ' to learn more about interactive tables.';\n",
              "        element.innerHTML = '';\n",
              "        dataTable['output_type'] = 'display_data';\n",
              "        await google.colab.output.renderOutput(dataTable, element);\n",
              "        const docLink = document.createElement('div');\n",
              "        docLink.innerHTML = docLinkHtml;\n",
              "        element.appendChild(docLink);\n",
              "      }\n",
              "    </script>\n",
              "  </div>\n",
              "\n",
              "\n",
              "<div id=\"df-577a0fd0-03cc-4bb8-b25e-78a2c13d6b0b\">\n",
              "  <button class=\"colab-df-quickchart\" onclick=\"quickchart('df-577a0fd0-03cc-4bb8-b25e-78a2c13d6b0b')\"\n",
              "            title=\"Suggest charts.\"\n",
              "            style=\"display:none;\">\n",
              "\n",
              "<svg xmlns=\"http://www.w3.org/2000/svg\" height=\"24px\"viewBox=\"0 0 24 24\"\n",
              "     width=\"24px\">\n",
              "    <g>\n",
              "        <path d=\"M19 3H5c-1.1 0-2 .9-2 2v14c0 1.1.9 2 2 2h14c1.1 0 2-.9 2-2V5c0-1.1-.9-2-2-2zM9 17H7v-7h2v7zm4 0h-2V7h2v10zm4 0h-2v-4h2v4z\"/>\n",
              "    </g>\n",
              "</svg>\n",
              "  </button>\n",
              "\n",
              "<style>\n",
              "  .colab-df-quickchart {\n",
              "      --bg-color: #E8F0FE;\n",
              "      --fill-color: #1967D2;\n",
              "      --hover-bg-color: #E2EBFA;\n",
              "      --hover-fill-color: #174EA6;\n",
              "      --disabled-fill-color: #AAA;\n",
              "      --disabled-bg-color: #DDD;\n",
              "  }\n",
              "\n",
              "  [theme=dark] .colab-df-quickchart {\n",
              "      --bg-color: #3B4455;\n",
              "      --fill-color: #D2E3FC;\n",
              "      --hover-bg-color: #434B5C;\n",
              "      --hover-fill-color: #FFFFFF;\n",
              "      --disabled-bg-color: #3B4455;\n",
              "      --disabled-fill-color: #666;\n",
              "  }\n",
              "\n",
              "  .colab-df-quickchart {\n",
              "    background-color: var(--bg-color);\n",
              "    border: none;\n",
              "    border-radius: 50%;\n",
              "    cursor: pointer;\n",
              "    display: none;\n",
              "    fill: var(--fill-color);\n",
              "    height: 32px;\n",
              "    padding: 0;\n",
              "    width: 32px;\n",
              "  }\n",
              "\n",
              "  .colab-df-quickchart:hover {\n",
              "    background-color: var(--hover-bg-color);\n",
              "    box-shadow: 0 1px 2px rgba(60, 64, 67, 0.3), 0 1px 3px 1px rgba(60, 64, 67, 0.15);\n",
              "    fill: var(--button-hover-fill-color);\n",
              "  }\n",
              "\n",
              "  .colab-df-quickchart-complete:disabled,\n",
              "  .colab-df-quickchart-complete:disabled:hover {\n",
              "    background-color: var(--disabled-bg-color);\n",
              "    fill: var(--disabled-fill-color);\n",
              "    box-shadow: none;\n",
              "  }\n",
              "\n",
              "  .colab-df-spinner {\n",
              "    border: 2px solid var(--fill-color);\n",
              "    border-color: transparent;\n",
              "    border-bottom-color: var(--fill-color);\n",
              "    animation:\n",
              "      spin 1s steps(1) infinite;\n",
              "  }\n",
              "\n",
              "  @keyframes spin {\n",
              "    0% {\n",
              "      border-color: transparent;\n",
              "      border-bottom-color: var(--fill-color);\n",
              "      border-left-color: var(--fill-color);\n",
              "    }\n",
              "    20% {\n",
              "      border-color: transparent;\n",
              "      border-left-color: var(--fill-color);\n",
              "      border-top-color: var(--fill-color);\n",
              "    }\n",
              "    30% {\n",
              "      border-color: transparent;\n",
              "      border-left-color: var(--fill-color);\n",
              "      border-top-color: var(--fill-color);\n",
              "      border-right-color: var(--fill-color);\n",
              "    }\n",
              "    40% {\n",
              "      border-color: transparent;\n",
              "      border-right-color: var(--fill-color);\n",
              "      border-top-color: var(--fill-color);\n",
              "    }\n",
              "    60% {\n",
              "      border-color: transparent;\n",
              "      border-right-color: var(--fill-color);\n",
              "    }\n",
              "    80% {\n",
              "      border-color: transparent;\n",
              "      border-right-color: var(--fill-color);\n",
              "      border-bottom-color: var(--fill-color);\n",
              "    }\n",
              "    90% {\n",
              "      border-color: transparent;\n",
              "      border-bottom-color: var(--fill-color);\n",
              "    }\n",
              "  }\n",
              "</style>\n",
              "\n",
              "  <script>\n",
              "    async function quickchart(key) {\n",
              "      const quickchartButtonEl =\n",
              "        document.querySelector('#' + key + ' button');\n",
              "      quickchartButtonEl.disabled = true;  // To prevent multiple clicks.\n",
              "      quickchartButtonEl.classList.add('colab-df-spinner');\n",
              "      try {\n",
              "        const charts = await google.colab.kernel.invokeFunction(\n",
              "            'suggestCharts', [key], {});\n",
              "      } catch (error) {\n",
              "        console.error('Error during call to suggestCharts:', error);\n",
              "      }\n",
              "      quickchartButtonEl.classList.remove('colab-df-spinner');\n",
              "      quickchartButtonEl.classList.add('colab-df-quickchart-complete');\n",
              "    }\n",
              "    (() => {\n",
              "      let quickchartButtonEl =\n",
              "        document.querySelector('#df-577a0fd0-03cc-4bb8-b25e-78a2c13d6b0b button');\n",
              "      quickchartButtonEl.style.display =\n",
              "        google.colab.kernel.accessAllowed ? 'block' : 'none';\n",
              "    })();\n",
              "  </script>\n",
              "</div>\n",
              "    </div>\n",
              "  </div>\n"
            ]
          },
          "metadata": {},
          "execution_count": 13
        }
      ]
    },
    {
      "cell_type": "markdown",
      "source": [
        "From statistical result we can understatnd the basic statistical report of min, max, percentile, mean and standard deviation"
      ],
      "metadata": {
        "id": "K6lx77avclXJ"
      }
    },
    {
      "cell_type": "code",
      "source": [
        "#checking for the data is balanced or not\n",
        "df['y'].value_counts()"
      ],
      "metadata": {
        "id": "oUiPpTV-EuQn",
        "colab": {
          "base_uri": "https://localhost:8080/"
        },
        "outputId": "110639d0-dc39-4e72-c429-afa8f923650f"
      },
      "execution_count": 14,
      "outputs": [
        {
          "output_type": "execute_result",
          "data": {
            "text/plain": [
              "no     39922\n",
              "yes     5289\n",
              "Name: y, dtype: int64"
            ]
          },
          "metadata": {},
          "execution_count": 14
        }
      ]
    },
    {
      "cell_type": "markdown",
      "source": [
        "From the above result we can clearly understand that the dataset is imbalanced. Lets find the percentage."
      ],
      "metadata": {
        "id": "QRl9D-g4cq4a"
      }
    },
    {
      "cell_type": "code",
      "source": [
        "#Finding the percentage of the data\n",
        "print('Percentage for \"no\": ',((39916) / (39916+5289)) * 100 )\n",
        "print('Percentage for \"yes\": ',((5289) / (39916+5289)) * 100 )"
      ],
      "metadata": {
        "id": "t_gP8kDqEuWl",
        "colab": {
          "base_uri": "https://localhost:8080/"
        },
        "outputId": "634a2975-0878-48f4-b314-f934a8ff0d10"
      },
      "execution_count": 15,
      "outputs": [
        {
          "output_type": "stream",
          "name": "stdout",
          "text": [
            "Percentage for \"no\":  88.29996681782988\n",
            "Percentage for \"yes\":  11.700033182170113\n"
          ]
        }
      ]
    },
    {
      "cell_type": "markdown",
      "source": [
        "from the above result we can clearly understand that the percentage for no is very high so the Majority class \"no\" with 88.29% and Minority class \"yes\" with 11.7%."
      ],
      "metadata": {
        "id": "1I_HD3Z7cx7f"
      }
    },
    {
      "cell_type": "markdown",
      "source": [
        "# **Data Preprocessing**\n",
        "\n",
        "> Indented block\n",
        "\n",
        "\n",
        "# **Data Cleaning**\n",
        "\n",
        "Data cleaning is the process of identifying and correcting or removing errors, inconsistencies, and inaccuracies in a dataset to improve its quality and ensure that it is ready for analysis. It involves tasks such as handling missing or duplicate data, correcting data types, and removing outliers or irrelevant information."
      ],
      "metadata": {
        "id": "esiTf-_nc2gG"
      }
    },
    {
      "cell_type": "markdown",
      "source": [
        "### **Missing Values**"
      ],
      "metadata": {
        "id": "3yBJC9vmc9xd"
      }
    },
    {
      "cell_type": "code",
      "source": [
        "#checking for null values\n",
        "df.isnull().sum()"
      ],
      "metadata": {
        "id": "OHS4x7x2Eugj",
        "colab": {
          "base_uri": "https://localhost:8080/"
        },
        "outputId": "97f46f68-92b6-41eb-b17e-8ecc606dfe5e"
      },
      "execution_count": 16,
      "outputs": [
        {
          "output_type": "execute_result",
          "data": {
            "text/plain": [
              "age               0\n",
              "job               0\n",
              "marital           0\n",
              "education_qual    0\n",
              "call_type         0\n",
              "day               0\n",
              "mon               0\n",
              "dur               0\n",
              "num_calls         0\n",
              "prev_outcome      0\n",
              "y                 0\n",
              "dtype: int64"
            ]
          },
          "metadata": {},
          "execution_count": 16
        }
      ]
    },
    {
      "cell_type": "markdown",
      "source": [
        "### **Finding Duplicate Values**"
      ],
      "metadata": {
        "id": "BfEZKjZSdEio"
      }
    },
    {
      "cell_type": "code",
      "source": [
        "#checking for no of duplicate values\n",
        "df.duplicated().sum()"
      ],
      "metadata": {
        "id": "3op_s8ArEukv",
        "colab": {
          "base_uri": "https://localhost:8080/"
        },
        "outputId": "c650e6f0-2c30-4944-c31b-88eb391d846c"
      },
      "execution_count": 17,
      "outputs": [
        {
          "output_type": "execute_result",
          "data": {
            "text/plain": [
              "6"
            ]
          },
          "metadata": {},
          "execution_count": 17
        }
      ]
    },
    {
      "cell_type": "markdown",
      "source": [
        "From the above result we can find 6 duplicate datas. So will drop the duplicates."
      ],
      "metadata": {
        "id": "O6Ns5mw1dMXw"
      }
    },
    {
      "cell_type": "code",
      "source": [
        "#droping duplicates\n",
        "df = df.drop_duplicates()"
      ],
      "metadata": {
        "id": "MLR1FVBBEuo-"
      },
      "execution_count": 18,
      "outputs": []
    },
    {
      "cell_type": "code",
      "source": [
        "#after droping agin check for no of duplicates\n",
        "df.duplicated().sum()"
      ],
      "metadata": {
        "id": "DYgYzp-ZEutx",
        "colab": {
          "base_uri": "https://localhost:8080/"
        },
        "outputId": "cde1bd00-2f4e-493a-cfe7-99a3dd5f64f0"
      },
      "execution_count": 19,
      "outputs": [
        {
          "output_type": "execute_result",
          "data": {
            "text/plain": [
              "0"
            ]
          },
          "metadata": {},
          "execution_count": 19
        }
      ]
    },
    {
      "cell_type": "markdown",
      "source": [
        "Duplicates are removed from dataset."
      ],
      "metadata": {
        "id": "5xu2blRHdTby"
      }
    },
    {
      "cell_type": "markdown",
      "source": [
        "### **Checking Data Type**"
      ],
      "metadata": {
        "id": "ADC1_NpndWds"
      }
    },
    {
      "cell_type": "code",
      "source": [
        "df.dtypes"
      ],
      "metadata": {
        "id": "fFBR2BJCEuyA",
        "colab": {
          "base_uri": "https://localhost:8080/"
        },
        "outputId": "e4a1696d-fe97-48cc-b73d-803df0ceb7bd"
      },
      "execution_count": 20,
      "outputs": [
        {
          "output_type": "execute_result",
          "data": {
            "text/plain": [
              "age                int64\n",
              "job               object\n",
              "marital           object\n",
              "education_qual    object\n",
              "call_type         object\n",
              "day                int64\n",
              "mon               object\n",
              "dur                int64\n",
              "num_calls          int64\n",
              "prev_outcome      object\n",
              "y                 object\n",
              "dtype: object"
            ]
          },
          "metadata": {},
          "execution_count": 20
        }
      ]
    },
    {
      "cell_type": "markdown",
      "source": [
        "There is no need to change any datatype of the columns"
      ],
      "metadata": {
        "id": "k688zQ3ydcPZ"
      }
    },
    {
      "cell_type": "markdown",
      "source": [
        "### **Unique Values of Categorical Column**"
      ],
      "metadata": {
        "id": "_MfmYtIJde49"
      }
    },
    {
      "cell_type": "code",
      "source": [
        "print(\"UNIQUE CATEGORIES OF COLUMN ---> JOB \\n\")\n",
        "print(df['job'].unique())"
      ],
      "metadata": {
        "id": "l86VCEW_Eu2W",
        "colab": {
          "base_uri": "https://localhost:8080/"
        },
        "outputId": "2cec3910-8a3e-4e3b-f264-19a42d4f9a5d"
      },
      "execution_count": 21,
      "outputs": [
        {
          "output_type": "stream",
          "name": "stdout",
          "text": [
            "UNIQUE CATEGORIES OF COLUMN ---> JOB \n",
            "\n",
            "['management' 'technician' 'entrepreneur' 'blue-collar' 'unknown'\n",
            " 'retired' 'admin.' 'services' 'self-employed' 'unemployed' 'housemaid'\n",
            " 'student']\n"
          ]
        }
      ]
    },
    {
      "cell_type": "code",
      "source": [
        "print(\"UNIQUE CATEGORIES OF COLUMN ---> MARITAL STATUS \\n\")\n",
        "print(df['marital'].unique())"
      ],
      "metadata": {
        "id": "uLz-liYAEu6f",
        "colab": {
          "base_uri": "https://localhost:8080/"
        },
        "outputId": "086ffe43-a3bc-4af2-f1a3-785b91a48c26"
      },
      "execution_count": 22,
      "outputs": [
        {
          "output_type": "stream",
          "name": "stdout",
          "text": [
            "UNIQUE CATEGORIES OF COLUMN ---> MARITAL STATUS \n",
            "\n",
            "['married' 'single' 'divorced']\n"
          ]
        }
      ]
    },
    {
      "cell_type": "code",
      "source": [
        "print(\"UNIQUE CATEGORIES OF COLUMN ---> EDUCATION QUALIFICATION \\n\")\n",
        "print(df['education_qual'].unique())"
      ],
      "metadata": {
        "id": "QoVKRzbNEu_p",
        "colab": {
          "base_uri": "https://localhost:8080/"
        },
        "outputId": "77edef65-a143-4ca0-8a1e-f814aef1c45d"
      },
      "execution_count": 23,
      "outputs": [
        {
          "output_type": "stream",
          "name": "stdout",
          "text": [
            "UNIQUE CATEGORIES OF COLUMN ---> EDUCATION QUALIFICATION \n",
            "\n",
            "['tertiary' 'secondary' 'unknown' 'primary']\n"
          ]
        }
      ]
    },
    {
      "cell_type": "code",
      "source": [
        "print(\"UNIQUE CATEGORIES OF COLUMN ---> CALL TYPE \\n\")\n",
        "print(df['call_type'].unique())"
      ],
      "metadata": {
        "colab": {
          "base_uri": "https://localhost:8080/"
        },
        "id": "Tn3gewiLjYQj",
        "outputId": "83649eca-423d-4165-aca9-13d30e9df60c"
      },
      "execution_count": 24,
      "outputs": [
        {
          "output_type": "stream",
          "name": "stdout",
          "text": [
            "UNIQUE CATEGORIES OF COLUMN ---> CALL TYPE \n",
            "\n",
            "['unknown' 'cellular' 'telephone']\n"
          ]
        }
      ]
    },
    {
      "cell_type": "code",
      "source": [
        "print(\"UNIQUE CATEGORIES OF COLUMN ---> MONTH \\n\")\n",
        "print(df['mon'].unique())"
      ],
      "metadata": {
        "colab": {
          "base_uri": "https://localhost:8080/"
        },
        "id": "XVryVDinjYUN",
        "outputId": "0970f784-c811-4878-9048-e10c4ee412dc"
      },
      "execution_count": 25,
      "outputs": [
        {
          "output_type": "stream",
          "name": "stdout",
          "text": [
            "UNIQUE CATEGORIES OF COLUMN ---> MONTH \n",
            "\n",
            "['may' 'jun' 'jul' 'aug' 'oct' 'nov' 'dec' 'jan' 'feb' 'mar' 'apr' 'sep']\n"
          ]
        }
      ]
    },
    {
      "cell_type": "code",
      "source": [
        "print(\"UNIQUE CATEGORIES OF COLUMN ---> PREVIOUS OUTCOME \\n\")\n",
        "print(df['prev_outcome'].unique())"
      ],
      "metadata": {
        "colab": {
          "base_uri": "https://localhost:8080/"
        },
        "id": "mvraB3fTjYXr",
        "outputId": "6c9593ad-b8df-49e3-895f-3491d83db875"
      },
      "execution_count": 26,
      "outputs": [
        {
          "output_type": "stream",
          "name": "stdout",
          "text": [
            "UNIQUE CATEGORIES OF COLUMN ---> PREVIOUS OUTCOME \n",
            "\n",
            "['unknown' 'failure' 'other' 'success']\n"
          ]
        }
      ]
    },
    {
      "cell_type": "code",
      "source": [
        "print(\"UNIQUE CATEGORIES OF COLUMN ---> TARGET VARIABLE y \\n\")\n",
        "print(df['y'].value_counts())"
      ],
      "metadata": {
        "colab": {
          "base_uri": "https://localhost:8080/"
        },
        "id": "U6Z3f7iBjYa2",
        "outputId": "bc8adc97-e2bb-4fbe-aac5-d82683df774d"
      },
      "execution_count": 27,
      "outputs": [
        {
          "output_type": "stream",
          "name": "stdout",
          "text": [
            "UNIQUE CATEGORIES OF COLUMN ---> TARGET VARIABLE y \n",
            "\n",
            "no     39916\n",
            "yes     5289\n",
            "Name: y, dtype: int64\n"
          ]
        }
      ]
    },
    {
      "cell_type": "markdown",
      "source": [
        "From all the above results all values are unique which means there is no incorrect or wrong data that is spelling mistake, upper case and lower case mismatch of each values."
      ],
      "metadata": {
        "id": "umDpJU7Dj2Ad"
      }
    },
    {
      "cell_type": "markdown",
      "source": [
        "### **Exploring the Dataset and replace the unknown values**"
      ],
      "metadata": {
        "id": "H0BGnD5Uj7tr"
      }
    },
    {
      "cell_type": "markdown",
      "source": [
        "**Converting categorical Target column into numerical column.**"
      ],
      "metadata": {
        "id": "sMi0s2bAkRqn"
      }
    },
    {
      "cell_type": "code",
      "source": [
        "df['target'] = df[\"y\"].map({\"yes\":1 , \"no\": 0})"
      ],
      "metadata": {
        "id": "Ip4ZARGqjYel"
      },
      "execution_count": 28,
      "outputs": []
    },
    {
      "cell_type": "code",
      "source": [
        "df.head()"
      ],
      "metadata": {
        "colab": {
          "base_uri": "https://localhost:8080/",
          "height": 206
        },
        "id": "AgLqCu5SjYik",
        "outputId": "cd64715e-8ec6-4997-d537-4bdc02f207cc"
      },
      "execution_count": 29,
      "outputs": [
        {
          "output_type": "execute_result",
          "data": {
            "text/plain": [
              "   age           job  marital education_qual call_type  day  mon  dur  \\\n",
              "0   58    management  married       tertiary   unknown    5  may  261   \n",
              "1   44    technician   single      secondary   unknown    5  may  151   \n",
              "2   33  entrepreneur  married      secondary   unknown    5  may   76   \n",
              "3   47   blue-collar  married        unknown   unknown    5  may   92   \n",
              "4   33       unknown   single        unknown   unknown    5  may  198   \n",
              "\n",
              "   num_calls prev_outcome   y  target  \n",
              "0          1      unknown  no       0  \n",
              "1          1      unknown  no       0  \n",
              "2          1      unknown  no       0  \n",
              "3          1      unknown  no       0  \n",
              "4          1      unknown  no       0  "
            ],
            "text/html": [
              "\n",
              "  <div id=\"df-a5a392fb-e8ca-4263-a1e6-422ccb7f95a4\" class=\"colab-df-container\">\n",
              "    <div>\n",
              "<style scoped>\n",
              "    .dataframe tbody tr th:only-of-type {\n",
              "        vertical-align: middle;\n",
              "    }\n",
              "\n",
              "    .dataframe tbody tr th {\n",
              "        vertical-align: top;\n",
              "    }\n",
              "\n",
              "    .dataframe thead th {\n",
              "        text-align: right;\n",
              "    }\n",
              "</style>\n",
              "<table border=\"1\" class=\"dataframe\">\n",
              "  <thead>\n",
              "    <tr style=\"text-align: right;\">\n",
              "      <th></th>\n",
              "      <th>age</th>\n",
              "      <th>job</th>\n",
              "      <th>marital</th>\n",
              "      <th>education_qual</th>\n",
              "      <th>call_type</th>\n",
              "      <th>day</th>\n",
              "      <th>mon</th>\n",
              "      <th>dur</th>\n",
              "      <th>num_calls</th>\n",
              "      <th>prev_outcome</th>\n",
              "      <th>y</th>\n",
              "      <th>target</th>\n",
              "    </tr>\n",
              "  </thead>\n",
              "  <tbody>\n",
              "    <tr>\n",
              "      <th>0</th>\n",
              "      <td>58</td>\n",
              "      <td>management</td>\n",
              "      <td>married</td>\n",
              "      <td>tertiary</td>\n",
              "      <td>unknown</td>\n",
              "      <td>5</td>\n",
              "      <td>may</td>\n",
              "      <td>261</td>\n",
              "      <td>1</td>\n",
              "      <td>unknown</td>\n",
              "      <td>no</td>\n",
              "      <td>0</td>\n",
              "    </tr>\n",
              "    <tr>\n",
              "      <th>1</th>\n",
              "      <td>44</td>\n",
              "      <td>technician</td>\n",
              "      <td>single</td>\n",
              "      <td>secondary</td>\n",
              "      <td>unknown</td>\n",
              "      <td>5</td>\n",
              "      <td>may</td>\n",
              "      <td>151</td>\n",
              "      <td>1</td>\n",
              "      <td>unknown</td>\n",
              "      <td>no</td>\n",
              "      <td>0</td>\n",
              "    </tr>\n",
              "    <tr>\n",
              "      <th>2</th>\n",
              "      <td>33</td>\n",
              "      <td>entrepreneur</td>\n",
              "      <td>married</td>\n",
              "      <td>secondary</td>\n",
              "      <td>unknown</td>\n",
              "      <td>5</td>\n",
              "      <td>may</td>\n",
              "      <td>76</td>\n",
              "      <td>1</td>\n",
              "      <td>unknown</td>\n",
              "      <td>no</td>\n",
              "      <td>0</td>\n",
              "    </tr>\n",
              "    <tr>\n",
              "      <th>3</th>\n",
              "      <td>47</td>\n",
              "      <td>blue-collar</td>\n",
              "      <td>married</td>\n",
              "      <td>unknown</td>\n",
              "      <td>unknown</td>\n",
              "      <td>5</td>\n",
              "      <td>may</td>\n",
              "      <td>92</td>\n",
              "      <td>1</td>\n",
              "      <td>unknown</td>\n",
              "      <td>no</td>\n",
              "      <td>0</td>\n",
              "    </tr>\n",
              "    <tr>\n",
              "      <th>4</th>\n",
              "      <td>33</td>\n",
              "      <td>unknown</td>\n",
              "      <td>single</td>\n",
              "      <td>unknown</td>\n",
              "      <td>unknown</td>\n",
              "      <td>5</td>\n",
              "      <td>may</td>\n",
              "      <td>198</td>\n",
              "      <td>1</td>\n",
              "      <td>unknown</td>\n",
              "      <td>no</td>\n",
              "      <td>0</td>\n",
              "    </tr>\n",
              "  </tbody>\n",
              "</table>\n",
              "</div>\n",
              "    <div class=\"colab-df-buttons\">\n",
              "\n",
              "  <div class=\"colab-df-container\">\n",
              "    <button class=\"colab-df-convert\" onclick=\"convertToInteractive('df-a5a392fb-e8ca-4263-a1e6-422ccb7f95a4')\"\n",
              "            title=\"Convert this dataframe to an interactive table.\"\n",
              "            style=\"display:none;\">\n",
              "\n",
              "  <svg xmlns=\"http://www.w3.org/2000/svg\" height=\"24px\" viewBox=\"0 -960 960 960\">\n",
              "    <path d=\"M120-120v-720h720v720H120Zm60-500h600v-160H180v160Zm220 220h160v-160H400v160Zm0 220h160v-160H400v160ZM180-400h160v-160H180v160Zm440 0h160v-160H620v160ZM180-180h160v-160H180v160Zm440 0h160v-160H620v160Z\"/>\n",
              "  </svg>\n",
              "    </button>\n",
              "\n",
              "  <style>\n",
              "    .colab-df-container {\n",
              "      display:flex;\n",
              "      gap: 12px;\n",
              "    }\n",
              "\n",
              "    .colab-df-convert {\n",
              "      background-color: #E8F0FE;\n",
              "      border: none;\n",
              "      border-radius: 50%;\n",
              "      cursor: pointer;\n",
              "      display: none;\n",
              "      fill: #1967D2;\n",
              "      height: 32px;\n",
              "      padding: 0 0 0 0;\n",
              "      width: 32px;\n",
              "    }\n",
              "\n",
              "    .colab-df-convert:hover {\n",
              "      background-color: #E2EBFA;\n",
              "      box-shadow: 0px 1px 2px rgba(60, 64, 67, 0.3), 0px 1px 3px 1px rgba(60, 64, 67, 0.15);\n",
              "      fill: #174EA6;\n",
              "    }\n",
              "\n",
              "    .colab-df-buttons div {\n",
              "      margin-bottom: 4px;\n",
              "    }\n",
              "\n",
              "    [theme=dark] .colab-df-convert {\n",
              "      background-color: #3B4455;\n",
              "      fill: #D2E3FC;\n",
              "    }\n",
              "\n",
              "    [theme=dark] .colab-df-convert:hover {\n",
              "      background-color: #434B5C;\n",
              "      box-shadow: 0px 1px 3px 1px rgba(0, 0, 0, 0.15);\n",
              "      filter: drop-shadow(0px 1px 2px rgba(0, 0, 0, 0.3));\n",
              "      fill: #FFFFFF;\n",
              "    }\n",
              "  </style>\n",
              "\n",
              "    <script>\n",
              "      const buttonEl =\n",
              "        document.querySelector('#df-a5a392fb-e8ca-4263-a1e6-422ccb7f95a4 button.colab-df-convert');\n",
              "      buttonEl.style.display =\n",
              "        google.colab.kernel.accessAllowed ? 'block' : 'none';\n",
              "\n",
              "      async function convertToInteractive(key) {\n",
              "        const element = document.querySelector('#df-a5a392fb-e8ca-4263-a1e6-422ccb7f95a4');\n",
              "        const dataTable =\n",
              "          await google.colab.kernel.invokeFunction('convertToInteractive',\n",
              "                                                    [key], {});\n",
              "        if (!dataTable) return;\n",
              "\n",
              "        const docLinkHtml = 'Like what you see? Visit the ' +\n",
              "          '<a target=\"_blank\" href=https://colab.research.google.com/notebooks/data_table.ipynb>data table notebook</a>'\n",
              "          + ' to learn more about interactive tables.';\n",
              "        element.innerHTML = '';\n",
              "        dataTable['output_type'] = 'display_data';\n",
              "        await google.colab.output.renderOutput(dataTable, element);\n",
              "        const docLink = document.createElement('div');\n",
              "        docLink.innerHTML = docLinkHtml;\n",
              "        element.appendChild(docLink);\n",
              "      }\n",
              "    </script>\n",
              "  </div>\n",
              "\n",
              "\n",
              "<div id=\"df-fd3ab3d2-df2c-4d1d-a78c-2600e5e8b6e4\">\n",
              "  <button class=\"colab-df-quickchart\" onclick=\"quickchart('df-fd3ab3d2-df2c-4d1d-a78c-2600e5e8b6e4')\"\n",
              "            title=\"Suggest charts.\"\n",
              "            style=\"display:none;\">\n",
              "\n",
              "<svg xmlns=\"http://www.w3.org/2000/svg\" height=\"24px\"viewBox=\"0 0 24 24\"\n",
              "     width=\"24px\">\n",
              "    <g>\n",
              "        <path d=\"M19 3H5c-1.1 0-2 .9-2 2v14c0 1.1.9 2 2 2h14c1.1 0 2-.9 2-2V5c0-1.1-.9-2-2-2zM9 17H7v-7h2v7zm4 0h-2V7h2v10zm4 0h-2v-4h2v4z\"/>\n",
              "    </g>\n",
              "</svg>\n",
              "  </button>\n",
              "\n",
              "<style>\n",
              "  .colab-df-quickchart {\n",
              "      --bg-color: #E8F0FE;\n",
              "      --fill-color: #1967D2;\n",
              "      --hover-bg-color: #E2EBFA;\n",
              "      --hover-fill-color: #174EA6;\n",
              "      --disabled-fill-color: #AAA;\n",
              "      --disabled-bg-color: #DDD;\n",
              "  }\n",
              "\n",
              "  [theme=dark] .colab-df-quickchart {\n",
              "      --bg-color: #3B4455;\n",
              "      --fill-color: #D2E3FC;\n",
              "      --hover-bg-color: #434B5C;\n",
              "      --hover-fill-color: #FFFFFF;\n",
              "      --disabled-bg-color: #3B4455;\n",
              "      --disabled-fill-color: #666;\n",
              "  }\n",
              "\n",
              "  .colab-df-quickchart {\n",
              "    background-color: var(--bg-color);\n",
              "    border: none;\n",
              "    border-radius: 50%;\n",
              "    cursor: pointer;\n",
              "    display: none;\n",
              "    fill: var(--fill-color);\n",
              "    height: 32px;\n",
              "    padding: 0;\n",
              "    width: 32px;\n",
              "  }\n",
              "\n",
              "  .colab-df-quickchart:hover {\n",
              "    background-color: var(--hover-bg-color);\n",
              "    box-shadow: 0 1px 2px rgba(60, 64, 67, 0.3), 0 1px 3px 1px rgba(60, 64, 67, 0.15);\n",
              "    fill: var(--button-hover-fill-color);\n",
              "  }\n",
              "\n",
              "  .colab-df-quickchart-complete:disabled,\n",
              "  .colab-df-quickchart-complete:disabled:hover {\n",
              "    background-color: var(--disabled-bg-color);\n",
              "    fill: var(--disabled-fill-color);\n",
              "    box-shadow: none;\n",
              "  }\n",
              "\n",
              "  .colab-df-spinner {\n",
              "    border: 2px solid var(--fill-color);\n",
              "    border-color: transparent;\n",
              "    border-bottom-color: var(--fill-color);\n",
              "    animation:\n",
              "      spin 1s steps(1) infinite;\n",
              "  }\n",
              "\n",
              "  @keyframes spin {\n",
              "    0% {\n",
              "      border-color: transparent;\n",
              "      border-bottom-color: var(--fill-color);\n",
              "      border-left-color: var(--fill-color);\n",
              "    }\n",
              "    20% {\n",
              "      border-color: transparent;\n",
              "      border-left-color: var(--fill-color);\n",
              "      border-top-color: var(--fill-color);\n",
              "    }\n",
              "    30% {\n",
              "      border-color: transparent;\n",
              "      border-left-color: var(--fill-color);\n",
              "      border-top-color: var(--fill-color);\n",
              "      border-right-color: var(--fill-color);\n",
              "    }\n",
              "    40% {\n",
              "      border-color: transparent;\n",
              "      border-right-color: var(--fill-color);\n",
              "      border-top-color: var(--fill-color);\n",
              "    }\n",
              "    60% {\n",
              "      border-color: transparent;\n",
              "      border-right-color: var(--fill-color);\n",
              "    }\n",
              "    80% {\n",
              "      border-color: transparent;\n",
              "      border-right-color: var(--fill-color);\n",
              "      border-bottom-color: var(--fill-color);\n",
              "    }\n",
              "    90% {\n",
              "      border-color: transparent;\n",
              "      border-bottom-color: var(--fill-color);\n",
              "    }\n",
              "  }\n",
              "</style>\n",
              "\n",
              "  <script>\n",
              "    async function quickchart(key) {\n",
              "      const quickchartButtonEl =\n",
              "        document.querySelector('#' + key + ' button');\n",
              "      quickchartButtonEl.disabled = true;  // To prevent multiple clicks.\n",
              "      quickchartButtonEl.classList.add('colab-df-spinner');\n",
              "      try {\n",
              "        const charts = await google.colab.kernel.invokeFunction(\n",
              "            'suggestCharts', [key], {});\n",
              "      } catch (error) {\n",
              "        console.error('Error during call to suggestCharts:', error);\n",
              "      }\n",
              "      quickchartButtonEl.classList.remove('colab-df-spinner');\n",
              "      quickchartButtonEl.classList.add('colab-df-quickchart-complete');\n",
              "    }\n",
              "    (() => {\n",
              "      let quickchartButtonEl =\n",
              "        document.querySelector('#df-fd3ab3d2-df2c-4d1d-a78c-2600e5e8b6e4 button');\n",
              "      quickchartButtonEl.style.display =\n",
              "        google.colab.kernel.accessAllowed ? 'block' : 'none';\n",
              "    })();\n",
              "  </script>\n",
              "</div>\n",
              "    </div>\n",
              "  </div>\n"
            ]
          },
          "metadata": {},
          "execution_count": 29
        }
      ]
    },
    {
      "cell_type": "markdown",
      "source": [
        "**Age**"
      ],
      "metadata": {
        "id": "641m1SCjkZrP"
      }
    },
    {
      "cell_type": "code",
      "source": [
        "#no of counts for particular age\n",
        "df.age.value_counts()"
      ],
      "metadata": {
        "colab": {
          "base_uri": "https://localhost:8080/"
        },
        "id": "xxM3Ho3ejYmO",
        "outputId": "b622e48c-c9a3-4acc-a582-d4b2efd917c4"
      },
      "execution_count": 30,
      "outputs": [
        {
          "output_type": "execute_result",
          "data": {
            "text/plain": [
              "32    2084\n",
              "31    1996\n",
              "33    1972\n",
              "34    1929\n",
              "35    1894\n",
              "      ... \n",
              "93       2\n",
              "90       2\n",
              "95       2\n",
              "88       2\n",
              "94       1\n",
              "Name: age, Length: 77, dtype: int64"
            ]
          },
          "metadata": {},
          "execution_count": 30
        }
      ]
    },
    {
      "cell_type": "code",
      "source": [
        "#checking for the percentage of how many people get insured? compared with Target vs Age\n",
        "df.groupby('age')['target'].mean()"
      ],
      "metadata": {
        "colab": {
          "base_uri": "https://localhost:8080/"
        },
        "id": "8KS5eSnNjYpH",
        "outputId": "b5452b56-5514-4b25-973f-d39b0cc8f616"
      },
      "execution_count": 31,
      "outputs": [
        {
          "output_type": "execute_result",
          "data": {
            "text/plain": [
              "age\n",
              "18    0.583333\n",
              "19    0.314286\n",
              "20    0.300000\n",
              "21    0.278481\n",
              "22    0.310078\n",
              "        ...   \n",
              "90    1.000000\n",
              "92    1.000000\n",
              "93    1.000000\n",
              "94    0.000000\n",
              "95    0.500000\n",
              "Name: target, Length: 77, dtype: float64"
            ]
          },
          "metadata": {},
          "execution_count": 31
        }
      ]
    },
    {
      "cell_type": "markdown",
      "source": [
        "**Job**"
      ],
      "metadata": {
        "id": "iYlp9uonkjSV"
      }
    },
    {
      "cell_type": "code",
      "source": [
        "#no of counts for particular job\n",
        "df.job.value_counts()"
      ],
      "metadata": {
        "colab": {
          "base_uri": "https://localhost:8080/"
        },
        "id": "pmr8bhevjYse",
        "outputId": "07253881-7a5e-4a64-ffb8-462a0a6f836d"
      },
      "execution_count": 32,
      "outputs": [
        {
          "output_type": "execute_result",
          "data": {
            "text/plain": [
              "blue-collar      9730\n",
              "management       9457\n",
              "technician       7596\n",
              "admin.           5170\n",
              "services         4153\n",
              "retired          2264\n",
              "self-employed    1579\n",
              "entrepreneur     1487\n",
              "unemployed       1303\n",
              "housemaid        1240\n",
              "student           938\n",
              "unknown           288\n",
              "Name: job, dtype: int64"
            ]
          },
          "metadata": {},
          "execution_count": 32
        }
      ]
    },
    {
      "cell_type": "code",
      "source": [
        "#checking for the percentage of how many people get insured? compared with Target vs Job\n",
        "df.groupby('job')['target'].mean()"
      ],
      "metadata": {
        "colab": {
          "base_uri": "https://localhost:8080/"
        },
        "id": "qeIp48zxjYvJ",
        "outputId": "6aaa8f17-027b-498c-ed4d-343e7848df3f"
      },
      "execution_count": 33,
      "outputs": [
        {
          "output_type": "execute_result",
          "data": {
            "text/plain": [
              "job\n",
              "admin.           0.122050\n",
              "blue-collar      0.072765\n",
              "entrepreneur     0.082717\n",
              "housemaid        0.087903\n",
              "management       0.137570\n",
              "retired          0.227915\n",
              "self-employed    0.118429\n",
              "services         0.088851\n",
              "student          0.286780\n",
              "technician       0.110585\n",
              "unemployed       0.155027\n",
              "unknown          0.118056\n",
              "Name: target, dtype: float64"
            ]
          },
          "metadata": {},
          "execution_count": 33
        }
      ]
    },
    {
      "cell_type": "code",
      "source": [
        "# droping the column unknown\n",
        "#outof 45211 rows, deletion of 288 rows will not get more impact on dataset so planning to delete\n",
        "\n",
        "#replacing unknown value as null\n",
        "df['job'] =df['job'].replace('unknown',np.nan)"
      ],
      "metadata": {
        "id": "LiLvr9PgjYyz"
      },
      "execution_count": 34,
      "outputs": []
    },
    {
      "cell_type": "code",
      "source": [
        "#counting the no of null value in jab column\n",
        "df.job.isnull().sum()"
      ],
      "metadata": {
        "colab": {
          "base_uri": "https://localhost:8080/"
        },
        "id": "pzF1DHRsjY11",
        "outputId": "8304f2d9-a888-421c-eced-94de20ae6b44"
      },
      "execution_count": 35,
      "outputs": [
        {
          "output_type": "execute_result",
          "data": {
            "text/plain": [
              "288"
            ]
          },
          "metadata": {},
          "execution_count": 35
        }
      ]
    },
    {
      "cell_type": "code",
      "source": [
        "#removing null values from job column\n",
        "df=df.dropna(subset=['job'])"
      ],
      "metadata": {
        "id": "-FFg_RlYjY7I"
      },
      "execution_count": 36,
      "outputs": []
    },
    {
      "cell_type": "code",
      "source": [
        "#after removing null values checking for the summ of null vaues\n",
        "df.job.isnull().sum()"
      ],
      "metadata": {
        "colab": {
          "base_uri": "https://localhost:8080/"
        },
        "id": "UuJKlJKPjY-m",
        "outputId": "b8a58ec2-3ecd-44d8-84ba-324b0a4423e9"
      },
      "execution_count": 37,
      "outputs": [
        {
          "output_type": "execute_result",
          "data": {
            "text/plain": [
              "0"
            ]
          },
          "metadata": {},
          "execution_count": 37
        }
      ]
    },
    {
      "cell_type": "markdown",
      "source": [
        "**Marital Status**"
      ],
      "metadata": {
        "id": "-vV_zjik1Gvl"
      }
    },
    {
      "cell_type": "code",
      "source": [
        "#no of counts for marital status\n",
        "df.marital.value_counts()"
      ],
      "metadata": {
        "colab": {
          "base_uri": "https://localhost:8080/"
        },
        "id": "fRC2ab2cjZBw",
        "outputId": "cdcdc8a1-0011-4cb4-df6e-d75d4fb64f56"
      },
      "execution_count": 38,
      "outputs": [
        {
          "output_type": "execute_result",
          "data": {
            "text/plain": [
              "married     27007\n",
              "single      12720\n",
              "divorced     5190\n",
              "Name: marital, dtype: int64"
            ]
          },
          "metadata": {},
          "execution_count": 38
        }
      ]
    },
    {
      "cell_type": "code",
      "source": [
        "#checking for the percentage of how many people get insured? compared with Target vs Marital Status\n",
        "df.groupby('marital')['target'].mean()"
      ],
      "metadata": {
        "colab": {
          "base_uri": "https://localhost:8080/"
        },
        "id": "ZMk7yppcjZFW",
        "outputId": "bbca04e4-0033-4bef-eea6-df617f4954bf"
      },
      "execution_count": 39,
      "outputs": [
        {
          "output_type": "execute_result",
          "data": {
            "text/plain": [
              "marital\n",
              "divorced    0.119653\n",
              "married     0.101233\n",
              "single      0.149371\n",
              "Name: target, dtype: float64"
            ]
          },
          "metadata": {},
          "execution_count": 39
        }
      ]
    },
    {
      "cell_type": "markdown",
      "source": [
        "**Educational Qualification**"
      ],
      "metadata": {
        "id": "4-LxVOh11O8H"
      }
    },
    {
      "cell_type": "code",
      "source": [
        "#no of counts for Educational qualification\n",
        "df.education_qual.value_counts()"
      ],
      "metadata": {
        "colab": {
          "base_uri": "https://localhost:8080/"
        },
        "id": "B_CgEzjWjZIi",
        "outputId": "c935d24e-6032-4d1f-86b5-af942dcc2d3f"
      },
      "execution_count": 40,
      "outputs": [
        {
          "output_type": "execute_result",
          "data": {
            "text/plain": [
              "secondary    23128\n",
              "tertiary     13260\n",
              "primary       6799\n",
              "unknown       1730\n",
              "Name: education_qual, dtype: int64"
            ]
          },
          "metadata": {},
          "execution_count": 40
        }
      ]
    },
    {
      "cell_type": "code",
      "source": [
        "#checking for the percentage of how many people get insured? compared with Target vs Educational Qualification\n",
        "df.groupby('education_qual')['target'].mean()"
      ],
      "metadata": {
        "colab": {
          "base_uri": "https://localhost:8080/"
        },
        "id": "4wvKoIOxjaG6",
        "outputId": "8dc2764e-1946-423c-ab5d-5b2821429eeb"
      },
      "execution_count": 41,
      "outputs": [
        {
          "output_type": "execute_result",
          "data": {
            "text/plain": [
              "education_qual\n",
              "primary      0.086483\n",
              "secondary    0.105543\n",
              "tertiary     0.150226\n",
              "unknown      0.135260\n",
              "Name: target, dtype: float64"
            ]
          },
          "metadata": {},
          "execution_count": 41
        }
      ]
    },
    {
      "cell_type": "code",
      "source": [
        "#Finding the percentage of unknown value\n",
        "print('Percentage for \"Unknown\": ',((1730) / (23202+13301+6851+1730)) * 100 )"
      ],
      "metadata": {
        "colab": {
          "base_uri": "https://localhost:8080/"
        },
        "id": "NOZmO_XejaLC",
        "outputId": "9c78f22a-5acc-412f-c70d-e583273e5623"
      },
      "execution_count": 42,
      "outputs": [
        {
          "output_type": "stream",
          "name": "stdout",
          "text": [
            "Percentage for \"Unknown\":  3.8372815189424188\n"
          ]
        }
      ]
    },
    {
      "cell_type": "markdown",
      "source": [
        "Unknown percentage is 3.8% so if we delete also it will note affect the dataset"
      ],
      "metadata": {
        "id": "VWdeFj5S2AQS"
      }
    },
    {
      "cell_type": "code",
      "source": [
        "#replacing unknown value as null\n",
        "df['education_qual'] =df['education_qual'].replace('unknown',np.nan)"
      ],
      "metadata": {
        "id": "V0zbM_tOjaPT"
      },
      "execution_count": 43,
      "outputs": []
    },
    {
      "cell_type": "code",
      "source": [
        "#checking for null values\n",
        "df.education_qual.isnull().sum()"
      ],
      "metadata": {
        "colab": {
          "base_uri": "https://localhost:8080/"
        },
        "id": "QqG-6CsZjaTJ",
        "outputId": "91cc1dbf-156f-438a-e229-07b2f2429343"
      },
      "execution_count": 44,
      "outputs": [
        {
          "output_type": "execute_result",
          "data": {
            "text/plain": [
              "1730"
            ]
          },
          "metadata": {},
          "execution_count": 44
        }
      ]
    },
    {
      "cell_type": "code",
      "source": [
        "#droping the null values\n",
        "df = df. dropna(subset=['education_qual'])"
      ],
      "metadata": {
        "id": "lh28uSMyjaWq"
      },
      "execution_count": 45,
      "outputs": []
    },
    {
      "cell_type": "code",
      "source": [
        "#checking for null value after deleting\n",
        "df.education_qual.isnull().sum()"
      ],
      "metadata": {
        "colab": {
          "base_uri": "https://localhost:8080/"
        },
        "id": "2AE87fdmjaaO",
        "outputId": "e1e11fdd-6dd3-4d62-e08d-5975a753bc38"
      },
      "execution_count": 46,
      "outputs": [
        {
          "output_type": "execute_result",
          "data": {
            "text/plain": [
              "0"
            ]
          },
          "metadata": {},
          "execution_count": 46
        }
      ]
    },
    {
      "cell_type": "markdown",
      "source": [
        "**Call Type**"
      ],
      "metadata": {
        "id": "3R7fdGnC2RL6"
      }
    },
    {
      "cell_type": "code",
      "source": [
        "#no of counts for Call type\n",
        "df.call_type.value_counts()"
      ],
      "metadata": {
        "colab": {
          "base_uri": "https://localhost:8080/"
        },
        "id": "sUr48Ck8jadc",
        "outputId": "b0e1ff7f-3e68-48f5-8e47-3746207980d6"
      },
      "execution_count": 47,
      "outputs": [
        {
          "output_type": "execute_result",
          "data": {
            "text/plain": [
              "cellular     28210\n",
              "unknown      12283\n",
              "telephone     2694\n",
              "Name: call_type, dtype: int64"
            ]
          },
          "metadata": {},
          "execution_count": 47
        }
      ]
    },
    {
      "cell_type": "code",
      "source": [
        "#checking for the percentage of how many people get insured? compared with Target vs Call Type\n",
        "df.groupby('call_type')['target'].mean()"
      ],
      "metadata": {
        "colab": {
          "base_uri": "https://localhost:8080/"
        },
        "id": "zQdkuL0wjahG",
        "outputId": "b4e8273d-e01f-440b-85fa-11b19a6109c1"
      },
      "execution_count": 48,
      "outputs": [
        {
          "output_type": "execute_result",
          "data": {
            "text/plain": [
              "call_type\n",
              "cellular     0.147572\n",
              "telephone    0.129918\n",
              "unknown      0.041358\n",
              "Name: target, dtype: float64"
            ]
          },
          "metadata": {},
          "execution_count": 48
        }
      ]
    },
    {
      "cell_type": "code",
      "source": [
        "#Finding the percentage of unknown value\n",
        "print('Percentage for \"Unknown\": ',((12283) / (29285+13020+12283)) * 100 )"
      ],
      "metadata": {
        "colab": {
          "base_uri": "https://localhost:8080/"
        },
        "id": "GU5-s8o7jak3",
        "outputId": "9f77a284-a055-4ebe-cd49-2553ab41ee75"
      },
      "execution_count": 49,
      "outputs": [
        {
          "output_type": "stream",
          "name": "stdout",
          "text": [
            "Percentage for \"Unknown\":  22.501282333113505\n"
          ]
        }
      ]
    },
    {
      "cell_type": "markdown",
      "source": [
        "Unknown call type percentage is 22.50% so we will keep as it is."
      ],
      "metadata": {
        "id": "EDy088C02lrN"
      }
    },
    {
      "cell_type": "markdown",
      "source": [
        "**Day**"
      ],
      "metadata": {
        "id": "LUq7tyzz2pDr"
      }
    },
    {
      "cell_type": "code",
      "source": [
        "#no of counts for Day\n",
        "df.day.value_counts()"
      ],
      "metadata": {
        "colab": {
          "base_uri": "https://localhost:8080/"
        },
        "id": "Iveomy4FjaoW",
        "outputId": "28555f51-f332-4372-8d91-54b2996bcd7e"
      },
      "execution_count": 50,
      "outputs": [
        {
          "output_type": "execute_result",
          "data": {
            "text/plain": [
              "20    2628\n",
              "18    2227\n",
              "21    1961\n",
              "17    1872\n",
              "6     1817\n",
              "5     1796\n",
              "14    1784\n",
              "8     1758\n",
              "7     1739\n",
              "28    1739\n",
              "29    1661\n",
              "19    1656\n",
              "15    1649\n",
              "12    1542\n",
              "13    1529\n",
              "9     1483\n",
              "30    1481\n",
              "11    1397\n",
              "4     1372\n",
              "16    1331\n",
              "2     1243\n",
              "27    1072\n",
              "3     1039\n",
              "26     994\n",
              "23     900\n",
              "22     875\n",
              "25     810\n",
              "31     597\n",
              "10     504\n",
              "24     426\n",
              "1      305\n",
              "Name: day, dtype: int64"
            ]
          },
          "metadata": {},
          "execution_count": 50
        }
      ]
    },
    {
      "cell_type": "code",
      "source": [
        "#checking for the percentage of how many people get insured? compared with Target vs Day\n",
        "df.groupby('day')['target'].mean()"
      ],
      "metadata": {
        "colab": {
          "base_uri": "https://localhost:8080/"
        },
        "id": "f3PRnxEejatG",
        "outputId": "1a8485f7-81e4-47c8-cb74-2ec09edc8a95"
      },
      "execution_count": 51,
      "outputs": [
        {
          "output_type": "execute_result",
          "data": {
            "text/plain": [
              "day\n",
              "1     0.278689\n",
              "2     0.139179\n",
              "3     0.166506\n",
              "4     0.160350\n",
              "5     0.114143\n",
              "6     0.094111\n",
              "7     0.086832\n",
              "8     0.105802\n",
              "9     0.113284\n",
              "10    0.224206\n",
              "11    0.121689\n",
              "12    0.153696\n",
              "13    0.152387\n",
              "14    0.109305\n",
              "15    0.141298\n",
              "16    0.133734\n",
              "17    0.090812\n",
              "18    0.100584\n",
              "19    0.069444\n",
              "20    0.070396\n",
              "21    0.098929\n",
              "22    0.162286\n",
              "23    0.131111\n",
              "24    0.143192\n",
              "25    0.155556\n",
              "26    0.105634\n",
              "27    0.125933\n",
              "28    0.075331\n",
              "29    0.074052\n",
              "30    0.173531\n",
              "31    0.073702\n",
              "Name: target, dtype: float64"
            ]
          },
          "metadata": {},
          "execution_count": 51
        }
      ]
    },
    {
      "cell_type": "markdown",
      "source": [
        "**Month**"
      ],
      "metadata": {
        "id": "HEiBmR0X2zso"
      }
    },
    {
      "cell_type": "code",
      "source": [
        "#no of counts for month\n",
        "df.mon.value_counts()"
      ],
      "metadata": {
        "colab": {
          "base_uri": "https://localhost:8080/"
        },
        "id": "Nlpqzo-_jaw-",
        "outputId": "32a229e4-6884-440e-c0cf-32c7fcc9e54f"
      },
      "execution_count": 52,
      "outputs": [
        {
          "output_type": "execute_result",
          "data": {
            "text/plain": [
              "may    13191\n",
              "jul     6600\n",
              "aug     6035\n",
              "jun     4978\n",
              "nov     3842\n",
              "apr     2820\n",
              "feb     2533\n",
              "jan     1318\n",
              "oct      690\n",
              "sep      532\n",
              "mar      448\n",
              "dec      200\n",
              "Name: mon, dtype: int64"
            ]
          },
          "metadata": {},
          "execution_count": 52
        }
      ]
    },
    {
      "cell_type": "code",
      "source": [
        "#checking for the percentage of how many people get insured? compared with Target vs Month\n",
        "df.groupby('mon')['target'].mean()"
      ],
      "metadata": {
        "colab": {
          "base_uri": "https://localhost:8080/"
        },
        "id": "WySJ7iYoja0q",
        "outputId": "72c8d5ee-33b8-4dc6-ad27-c794f5b56ef9"
      },
      "execution_count": 53,
      "outputs": [
        {
          "output_type": "execute_result",
          "data": {
            "text/plain": [
              "mon\n",
              "apr    0.192553\n",
              "aug    0.109196\n",
              "dec    0.465000\n",
              "feb    0.165022\n",
              "jan    0.100152\n",
              "jul    0.088788\n",
              "jun    0.105062\n",
              "mar    0.537946\n",
              "may    0.067319\n",
              "nov    0.101510\n",
              "oct    0.430435\n",
              "sep    0.471805\n",
              "Name: target, dtype: float64"
            ]
          },
          "metadata": {},
          "execution_count": 53
        }
      ]
    },
    {
      "cell_type": "markdown",
      "source": [
        "**Duration**"
      ],
      "metadata": {
        "id": "RjucirFz27nn"
      }
    },
    {
      "cell_type": "code",
      "source": [
        "#no of counts for duration\n",
        "df.dur.value_counts()"
      ],
      "metadata": {
        "colab": {
          "base_uri": "https://localhost:8080/"
        },
        "id": "mVs_-26-ja4h",
        "outputId": "bdd22716-ab41-4346-9d67-ac57dc834d45"
      },
      "execution_count": 54,
      "outputs": [
        {
          "output_type": "execute_result",
          "data": {
            "text/plain": [
              "124     176\n",
              "90      172\n",
              "89      172\n",
              "114     172\n",
              "122     169\n",
              "       ... \n",
              "1327      1\n",
              "1331      1\n",
              "1608      1\n",
              "1833      1\n",
              "1556      1\n",
              "Name: dur, Length: 1558, dtype: int64"
            ]
          },
          "metadata": {},
          "execution_count": 54
        }
      ]
    },
    {
      "cell_type": "code",
      "source": [
        "#checking for the percentage of how many people get insured? compared with Target vs Duration\n",
        "df.groupby('dur')['target'].mean()"
      ],
      "metadata": {
        "colab": {
          "base_uri": "https://localhost:8080/"
        },
        "id": "euKS88Ovja8W",
        "outputId": "5849b65f-b110-4819-cc71-01066992d57d"
      },
      "execution_count": 55,
      "outputs": [
        {
          "output_type": "execute_result",
          "data": {
            "text/plain": [
              "dur\n",
              "0       0.0\n",
              "1       0.0\n",
              "2       0.0\n",
              "3       0.0\n",
              "4       0.0\n",
              "       ... \n",
              "3366    0.0\n",
              "3422    0.0\n",
              "3785    0.0\n",
              "3881    1.0\n",
              "4918    0.0\n",
              "Name: target, Length: 1558, dtype: float64"
            ]
          },
          "metadata": {},
          "execution_count": 55
        }
      ]
    },
    {
      "cell_type": "markdown",
      "source": [
        "**Number of Calls**"
      ],
      "metadata": {
        "id": "ZHdAQ_0i3JBh"
      }
    },
    {
      "cell_type": "code",
      "source": [
        "#no of counts for number of calls\n",
        "df.num_calls.value_counts()"
      ],
      "metadata": {
        "colab": {
          "base_uri": "https://localhost:8080/"
        },
        "id": "mnUZk896jbAM",
        "outputId": "262f05b1-b982-46d9-a060-4fb741265b2a"
      },
      "execution_count": 56,
      "outputs": [
        {
          "output_type": "execute_result",
          "data": {
            "text/plain": [
              "1     16740\n",
              "2     11936\n",
              "3      5277\n",
              "4      3397\n",
              "5      1703\n",
              "6      1234\n",
              "7       696\n",
              "8       516\n",
              "9       307\n",
              "10      255\n",
              "11      190\n",
              "12      149\n",
              "13      123\n",
              "14       85\n",
              "15       81\n",
              "16       75\n",
              "17       65\n",
              "18       47\n",
              "19       43\n",
              "20       42\n",
              "21       33\n",
              "25       22\n",
              "22       20\n",
              "24       20\n",
              "23       20\n",
              "28       16\n",
              "29       13\n",
              "26       12\n",
              "31       11\n",
              "32        9\n",
              "27        9\n",
              "30        8\n",
              "33        6\n",
              "34        4\n",
              "36        4\n",
              "38        3\n",
              "35        3\n",
              "43        2\n",
              "50        2\n",
              "41        2\n",
              "51        1\n",
              "37        1\n",
              "46        1\n",
              "55        1\n",
              "58        1\n",
              "39        1\n",
              "44        1\n",
              "Name: num_calls, dtype: int64"
            ]
          },
          "metadata": {},
          "execution_count": 56
        }
      ]
    },
    {
      "cell_type": "code",
      "source": [
        "#checking for the percentage of how many people get insured? compared with Target vs Numer of Calls\n",
        "df.groupby('num_calls')['target'].mean()"
      ],
      "metadata": {
        "colab": {
          "base_uri": "https://localhost:8080/"
        },
        "id": "vMbMoJX4jbEb",
        "outputId": "631fc3b1-f0a2-4d31-a895-d607d7832d40"
      },
      "execution_count": 57,
      "outputs": [
        {
          "output_type": "execute_result",
          "data": {
            "text/plain": [
              "num_calls\n",
              "1     0.145221\n",
              "2     0.110841\n",
              "3     0.111237\n",
              "4     0.088902\n",
              "5     0.079859\n",
              "6     0.072123\n",
              "7     0.064655\n",
              "8     0.058140\n",
              "9     0.065147\n",
              "10    0.050980\n",
              "11    0.078947\n",
              "12    0.026846\n",
              "13    0.048780\n",
              "14    0.047059\n",
              "15    0.049383\n",
              "16    0.026667\n",
              "17    0.076923\n",
              "18    0.000000\n",
              "19    0.000000\n",
              "20    0.023810\n",
              "21    0.030303\n",
              "22    0.000000\n",
              "23    0.000000\n",
              "24    0.050000\n",
              "25    0.000000\n",
              "26    0.000000\n",
              "27    0.000000\n",
              "28    0.000000\n",
              "29    0.076923\n",
              "30    0.000000\n",
              "31    0.000000\n",
              "32    0.111111\n",
              "33    0.000000\n",
              "34    0.000000\n",
              "35    0.000000\n",
              "36    0.000000\n",
              "37    0.000000\n",
              "38    0.000000\n",
              "39    0.000000\n",
              "41    0.000000\n",
              "43    0.000000\n",
              "44    0.000000\n",
              "46    0.000000\n",
              "50    0.000000\n",
              "51    0.000000\n",
              "55    0.000000\n",
              "58    0.000000\n",
              "Name: target, dtype: float64"
            ]
          },
          "metadata": {},
          "execution_count": 57
        }
      ]
    },
    {
      "cell_type": "markdown",
      "source": [
        "**Previous Outcome**"
      ],
      "metadata": {
        "id": "yPByqCnu3Yy5"
      }
    },
    {
      "cell_type": "code",
      "source": [
        "#no of counts for previous outcome\n",
        "df.prev_outcome.value_counts()"
      ],
      "metadata": {
        "colab": {
          "base_uri": "https://localhost:8080/"
        },
        "id": "nLCu_S61jbID",
        "outputId": "1041ed85-f78b-4140-8168-1beafe695748"
      },
      "execution_count": 58,
      "outputs": [
        {
          "output_type": "execute_result",
          "data": {
            "text/plain": [
              "unknown    35280\n",
              "failure     4709\n",
              "other       1774\n",
              "success     1424\n",
              "Name: prev_outcome, dtype: int64"
            ]
          },
          "metadata": {},
          "execution_count": 58
        }
      ]
    },
    {
      "cell_type": "code",
      "source": [
        "#checking for the percentage of how many people get insured? compared with Target vs Previous outcome\n",
        "df.groupby('prev_outcome')['target'].mean()"
      ],
      "metadata": {
        "colab": {
          "base_uri": "https://localhost:8080/"
        },
        "id": "2UfGCKfOjbL_",
        "outputId": "587f54e3-5bb4-4150-ac56-d6d73333f6a5"
      },
      "execution_count": 59,
      "outputs": [
        {
          "output_type": "execute_result",
          "data": {
            "text/plain": [
              "prev_outcome\n",
              "failure    0.124655\n",
              "other      0.165163\n",
              "success    0.643961\n",
              "unknown    0.091383\n",
              "Name: target, dtype: float64"
            ]
          },
          "metadata": {},
          "execution_count": 59
        }
      ]
    },
    {
      "cell_type": "code",
      "source": [
        "#Finding the percentage of unknown value\n",
        "print('Percentage for \"Unknown\": ',((35280) / (35280+4709+1774+1424)) * 100 )"
      ],
      "metadata": {
        "colab": {
          "base_uri": "https://localhost:8080/"
        },
        "id": "9gvjB0kRjbPz",
        "outputId": "8c84f848-f8c5-4e80-d65e-798e57bf255c"
      },
      "execution_count": 60,
      "outputs": [
        {
          "output_type": "stream",
          "name": "stdout",
          "text": [
            "Percentage for \"Unknown\":  81.69124968161715\n"
          ]
        }
      ]
    },
    {
      "cell_type": "markdown",
      "source": [
        "It is around 81% values are unknown. So will keep unknown value as it is."
      ],
      "metadata": {
        "id": "V3tI6brI3rZn"
      }
    },
    {
      "cell_type": "markdown",
      "source": [
        "**Target Variable Y**"
      ],
      "metadata": {
        "id": "gxsZCzlm35if"
      }
    },
    {
      "cell_type": "code",
      "source": [
        "#no of counts of target variable y\n",
        "df.y.value_counts()"
      ],
      "metadata": {
        "colab": {
          "base_uri": "https://localhost:8080/"
        },
        "id": "MqvwuSbUjbUV",
        "outputId": "30b9b642-f18f-4ae0-e9ad-08efac658661"
      },
      "execution_count": 61,
      "outputs": [
        {
          "output_type": "execute_result",
          "data": {
            "text/plain": [
              "no     38166\n",
              "yes     5021\n",
              "Name: y, dtype: int64"
            ]
          },
          "metadata": {},
          "execution_count": 61
        }
      ]
    },
    {
      "cell_type": "code",
      "source": [
        "df.info()"
      ],
      "metadata": {
        "colab": {
          "base_uri": "https://localhost:8080/"
        },
        "id": "N2NhAySfjbbA",
        "outputId": "a967f338-89bc-4f0a-b9a0-618adf5f9760"
      },
      "execution_count": 62,
      "outputs": [
        {
          "output_type": "stream",
          "name": "stdout",
          "text": [
            "<class 'pandas.core.frame.DataFrame'>\n",
            "Int64Index: 43187 entries, 0 to 45210\n",
            "Data columns (total 12 columns):\n",
            " #   Column          Non-Null Count  Dtype \n",
            "---  ------          --------------  ----- \n",
            " 0   age             43187 non-null  int64 \n",
            " 1   job             43187 non-null  object\n",
            " 2   marital         43187 non-null  object\n",
            " 3   education_qual  43187 non-null  object\n",
            " 4   call_type       43187 non-null  object\n",
            " 5   day             43187 non-null  int64 \n",
            " 6   mon             43187 non-null  object\n",
            " 7   dur             43187 non-null  int64 \n",
            " 8   num_calls       43187 non-null  int64 \n",
            " 9   prev_outcome    43187 non-null  object\n",
            " 10  y               43187 non-null  object\n",
            " 11  target          43187 non-null  int64 \n",
            "dtypes: int64(5), object(7)\n",
            "memory usage: 4.3+ MB\n"
          ]
        }
      ]
    },
    {
      "cell_type": "markdown",
      "source": [
        "### **Outlier Deduction and Correction**"
      ],
      "metadata": {
        "id": "-oK6m30Z6Ivx"
      }
    },
    {
      "cell_type": "markdown",
      "source": [
        "## **Age**\n",
        "\n",
        "**Box Plot**"
      ],
      "metadata": {
        "id": "twxXJzdT5aSM"
      }
    },
    {
      "cell_type": "code",
      "source": [
        "# Outlier Detuction using Box Plot for AGE Column\n",
        "plt.figure(figsize=(6, 3))\n",
        "sns.boxplot(x='age', data=df, color = \"g\")"
      ],
      "metadata": {
        "colab": {
          "base_uri": "https://localhost:8080/",
          "height": 328
        },
        "id": "Ug7q5-Y_jbi3",
        "outputId": "f15773a6-6877-497e-fb9f-015775703bcb"
      },
      "execution_count": 63,
      "outputs": [
        {
          "output_type": "execute_result",
          "data": {
            "text/plain": [
              "<Axes: xlabel='age'>"
            ]
          },
          "metadata": {},
          "execution_count": 63
        },
        {
          "output_type": "display_data",
          "data": {
            "text/plain": [
              "<Figure size 600x300 with 1 Axes>"
            ],
            "image/png": "[encoded data removed]"
          },
          "metadata": {}
        }
      ]
    },
    {
      "cell_type": "markdown",
      "source": [
        "From outlier we can see that there are many dots are displayed outside whisker."
      ],
      "metadata": {
        "id": "9I9P22CTA167"
      }
    },
    {
      "cell_type": "markdown",
      "source": [
        "**IQR**"
      ],
      "metadata": {
        "id": "_rVGjhL0A5SW"
      }
    },
    {
      "cell_type": "code",
      "source": [
        "# detecting Outlier for Age column\n",
        "q1,q3=np.percentile(df[\"age\"],[25,75])\n",
        "IQR=q3-q1\n",
        "upper=q3+1.5*IQR\n",
        "lower=q1-1.5*IQR\n",
        "print(\"Upper age bound:\",upper,\"Lower age bound :\", lower)"
      ],
      "metadata": {
        "colab": {
          "base_uri": "https://localhost:8080/"
        },
        "id": "luLfisujjbmq",
        "outputId": "ffbb8603-a1f5-442c-9644-c8f91b0635a4"
      },
      "execution_count": 64,
      "outputs": [
        {
          "output_type": "stream",
          "name": "stdout",
          "text": [
            "Upper age bound: 70.5 Lower age bound : 10.5\n"
          ]
        }
      ]
    },
    {
      "cell_type": "code",
      "source": [
        "# removing outlier for Age column\n",
        "# Clip/ Strip is used to detuct value to lower & upper threshold.\n",
        "df.age = df.age.clip(10.5,70.5)"
      ],
      "metadata": {
        "id": "v0Kc4QjIjbqq"
      },
      "execution_count": 65,
      "outputs": []
    },
    {
      "cell_type": "code",
      "source": [
        "# Checking- After outlier removal\n",
        "plt.figure(figsize=(6, 3))\n",
        "sns.boxplot(x='age', data=df, color = \"g\")"
      ],
      "metadata": {
        "colab": {
          "base_uri": "https://localhost:8080/",
          "height": 328
        },
        "id": "uriAddhFjb2R",
        "outputId": "685aac66-f472-4b50-e6f4-5b49c4f1ec4c"
      },
      "execution_count": 66,
      "outputs": [
        {
          "output_type": "execute_result",
          "data": {
            "text/plain": [
              "<Axes: xlabel='age'>"
            ]
          },
          "metadata": {},
          "execution_count": 66
        },
        {
          "output_type": "display_data",
          "data": {
            "text/plain": [
              "<Figure size 600x300 with 1 Axes>"
            ],
            "image/png": "[encoded data removed]"
          },
          "metadata": {}
        }
      ]
    },
    {
      "cell_type": "markdown",
      "source": [
        "## **Day**\n",
        "\n",
        "**Box Plot**"
      ],
      "metadata": {
        "id": "WBFEPaF6EHzM"
      }
    },
    {
      "cell_type": "code",
      "source": [
        "#Outlier Detuction using Box Plot for DAY Column\n",
        "plt.figure(figsize=(6, 2))\n",
        "sns.boxplot(x='day', data=df, color = \"Chartreuse\")"
      ],
      "metadata": {
        "id": "HorLfz36EvEF",
        "colab": {
          "base_uri": "https://localhost:8080/",
          "height": 251
        },
        "outputId": "89430c0b-7944-49fa-d42a-6eddb3f1cd4c"
      },
      "execution_count": 67,
      "outputs": [
        {
          "output_type": "execute_result",
          "data": {
            "text/plain": [
              "<Axes: xlabel='day'>"
            ]
          },
          "metadata": {},
          "execution_count": 67
        },
        {
          "output_type": "display_data",
          "data": {
            "text/plain": [
              "<Figure size 600x200 with 1 Axes>"
            ],
            "image/png": "[encoded data removed]"
          },
          "metadata": {}
        }
      ]
    },
    {
      "cell_type": "markdown",
      "source": [
        "From this Box plot we can confirm that there is no outlier. Min and max values are in between lower and upper bound."
      ],
      "metadata": {
        "id": "YICQx1K5FC9m"
      }
    },
    {
      "cell_type": "markdown",
      "source": [
        "## **Duration**\n",
        "\n",
        "**Box Plot**"
      ],
      "metadata": {
        "id": "2iTstm31FvIy"
      }
    },
    {
      "cell_type": "code",
      "source": [
        "# Outlier Detuction using Box Plot for DURATION Column\n",
        "plt.figure(figsize=(6, 3))\n",
        "sns.boxplot(x='dur', data=df, color = \"g\")"
      ],
      "metadata": {
        "id": "7t7WkzCAEvIg",
        "colab": {
          "base_uri": "https://localhost:8080/",
          "height": 328
        },
        "outputId": "5a699b97-feac-4a7b-d124-332ac7dcc54e"
      },
      "execution_count": 68,
      "outputs": [
        {
          "output_type": "execute_result",
          "data": {
            "text/plain": [
              "<Axes: xlabel='dur'>"
            ]
          },
          "metadata": {},
          "execution_count": 68
        },
        {
          "output_type": "display_data",
          "data": {
            "text/plain": [
              "<Figure size 600x300 with 1 Axes>"
            ],
            "image/png": "[encoded data removed]"
          },
          "metadata": {}
        }
      ]
    },
    {
      "cell_type": "code",
      "source": [
        "# Detecting Outlier for Duration column\n",
        "q1,q3=np.percentile(df[\"dur\"],[25,75])\n",
        "IQR=q3-q1\n",
        "upper=q3+1.5*IQR\n",
        "lower=q1-1.5*IQR\n",
        "print(\"Upper bound:\",upper,\"Lower bound :\", lower)"
      ],
      "metadata": {
        "id": "MJnJatZvEvL1",
        "colab": {
          "base_uri": "https://localhost:8080/"
        },
        "outputId": "ef3b651b-d3e8-496f-98ee-92f5c638f113"
      },
      "execution_count": 69,
      "outputs": [
        {
          "output_type": "stream",
          "name": "stdout",
          "text": [
            "Upper bound: 640.5 Lower bound : -219.5\n"
          ]
        }
      ]
    },
    {
      "cell_type": "code",
      "source": [
        "# Removing outlier for Duration column\n",
        "# Clip/ Strip is used to detuct value to lower & upper threshold.\n",
        "df.dur = df.dur.clip(-219.5,640.5)"
      ],
      "metadata": {
        "id": "go0P8rOVGMcu"
      },
      "execution_count": 70,
      "outputs": []
    },
    {
      "cell_type": "code",
      "source": [
        "# Checking- After outlier removal\n",
        "plt.figure(figsize=(6, 3))\n",
        "sns.boxplot(x='dur', data=df, color = \"g\")"
      ],
      "metadata": {
        "colab": {
          "base_uri": "https://localhost:8080/",
          "height": 328
        },
        "id": "--ldwcJ5GNqj",
        "outputId": "985a22f6-edb5-4eab-a84f-d5e2ffda73c6"
      },
      "execution_count": 71,
      "outputs": [
        {
          "output_type": "execute_result",
          "data": {
            "text/plain": [
              "<Axes: xlabel='dur'>"
            ]
          },
          "metadata": {},
          "execution_count": 71
        },
        {
          "output_type": "display_data",
          "data": {
            "text/plain": [
              "<Figure size 600x300 with 1 Axes>"
            ],
            "image/png": "[encoded data removed]"
          },
          "metadata": {}
        }
      ]
    },
    {
      "cell_type": "markdown",
      "source": [
        "## **No of Calls**\n",
        "\n",
        "**Box Plot**"
      ],
      "metadata": {
        "id": "IENyyD34Grih"
      }
    },
    {
      "cell_type": "code",
      "source": [
        "# Outlier Detuction using Box Plot for No of Calls column\n",
        "plt.figure(figsize=(6, 3))\n",
        "sns.boxplot(x='num_calls', data=df, color = \"g\")"
      ],
      "metadata": {
        "colab": {
          "base_uri": "https://localhost:8080/",
          "height": 328
        },
        "id": "pCTH6_7MGN0Z",
        "outputId": "179d8465-71c9-47ad-f2eb-e7351e2f243d"
      },
      "execution_count": 72,
      "outputs": [
        {
          "output_type": "execute_result",
          "data": {
            "text/plain": [
              "<Axes: xlabel='num_calls'>"
            ]
          },
          "metadata": {},
          "execution_count": 72
        },
        {
          "output_type": "display_data",
          "data": {
            "text/plain": [
              "<Figure size 600x300 with 1 Axes>"
            ],
            "image/png": "[encoded data removed]"
          },
          "metadata": {}
        }
      ]
    },
    {
      "cell_type": "code",
      "source": [
        "# Detecting Outlier for Number of Calls column\n",
        "q1,q3=np.percentile(df[\"num_calls\"],[25,75])\n",
        "IQR=q3-q1\n",
        "upper=q3+1.5*IQR\n",
        "lower=q1-1.5*IQR\n",
        "print(\"Upper bound:\",upper,\"Lower bound :\", lower)"
      ],
      "metadata": {
        "colab": {
          "base_uri": "https://localhost:8080/"
        },
        "id": "8NzDfhoJGN9m",
        "outputId": "145f0676-b002-4843-8a6a-c9a4767b42c5"
      },
      "execution_count": 73,
      "outputs": [
        {
          "output_type": "stream",
          "name": "stdout",
          "text": [
            "Upper bound: 6.0 Lower bound : -2.0\n"
          ]
        }
      ]
    },
    {
      "cell_type": "code",
      "source": [
        "# Removing outlier for Number of Calls column\n",
        "# Clip/ Strip is used to detuct value to lower & upper threshold.\n",
        "df.num_calls = df.num_calls.clip(-2,6.0)"
      ],
      "metadata": {
        "id": "A9VwArfmGOHU"
      },
      "execution_count": 74,
      "outputs": []
    },
    {
      "cell_type": "code",
      "source": [
        "# Checking- After outlier removal\n",
        "plt.figure(figsize=(6, 3))\n",
        "sns.boxplot(x='num_calls', data=df, color = \"g\")"
      ],
      "metadata": {
        "colab": {
          "base_uri": "https://localhost:8080/",
          "height": 328
        },
        "id": "aJ7yLabSGOPg",
        "outputId": "c5cd02c9-5e92-4a8d-c40e-121a25b6c6d2"
      },
      "execution_count": 75,
      "outputs": [
        {
          "output_type": "execute_result",
          "data": {
            "text/plain": [
              "<Axes: xlabel='num_calls'>"
            ]
          },
          "metadata": {},
          "execution_count": 75
        },
        {
          "output_type": "display_data",
          "data": {
            "text/plain": [
              "<Figure size 600x300 with 1 Axes>"
            ],
            "image/png": "[encoded data removed]"
          },
          "metadata": {}
        }
      ]
    },
    {
      "cell_type": "markdown",
      "source": [
        "We detucted and removed outlier for all Numerical columns. So we are done with Data Cleaning Process."
      ],
      "metadata": {
        "id": "m2nrqJLsHgN_"
      }
    },
    {
      "cell_type": "markdown",
      "source": [
        "# **EDA - Exploratory Data Analysis**\n",
        "\n",
        "EDA is an important step in the data analysis process, as it helps to identify potential issues with the data and to develop a deeper understanding of the relationships between variables."
      ],
      "metadata": {
        "id": "r8NsbDWfHpsQ"
      }
    },
    {
      "cell_type": "markdown",
      "source": [
        "### **Distribution of Categorical Feature**"
      ],
      "metadata": {
        "id": "bBOqeQHZHt6f"
      }
    },
    {
      "cell_type": "code",
      "source": [
        "plt.figure(figsize=(25,28))\n",
        "\n",
        "plt.subplot(331)\n",
        "df['job'].value_counts().plot(kind='bar')\n",
        "plt.xticks(rotation=70)\n",
        "plt.xlabel('job')\n",
        "plt.ylabel('count of customers')\n",
        "\n",
        "plt.subplot(332)\n",
        "df['marital'].value_counts().plot(kind='bar')\n",
        "plt.xticks(rotation=15)\n",
        "plt.xlabel('marital')\n",
        "plt.ylabel('count of customers')\n",
        "\n",
        "plt.subplot(333)\n",
        "df['education_qual'].value_counts().plot(kind='bar')\n",
        "plt.xticks(rotation=15)\n",
        "plt.xlabel('education_qual')\n",
        "plt.ylabel('count of customers')\n",
        "\n",
        "plt.subplot(334)\n",
        "df['call_type'].value_counts().plot(kind='bar')\n",
        "plt.xticks(rotation=15)\n",
        "plt.xlabel('call_type')\n",
        "plt.ylabel('count of customers')\n",
        "\n",
        "plt.subplot(335)\n",
        "df['mon'].value_counts().plot(kind='bar')\n",
        "plt.xticks(rotation=15)\n",
        "plt.xlabel('mon')\n",
        "plt.ylabel('count of customers')\n",
        "\n",
        "plt.subplot(336)\n",
        "df['prev_outcome'].value_counts().plot(kind='bar')\n",
        "plt.xticks(rotation=15)\n",
        "plt.xlabel('prev_outcome')\n",
        "plt.ylabel('count of customers')\n",
        "\n",
        "plt.show()\n",
        "plt.tight_layout()"
      ],
      "metadata": {
        "colab": {
          "base_uri": "https://localhost:8080/",
          "height": 933
        },
        "id": "JoNuQCRwGOeT",
        "outputId": "3598c09a-25ce-4797-e53c-ceb803207f69"
      },
      "execution_count": 76,
      "outputs": [
        {
          "output_type": "display_data",
          "data": {
            "text/plain": [
              "<Figure size 2500x2800 with 6 Axes>"
            ],
            "image/png": "[encoded data removed]"
          },
          "metadata": {}
        },
        {
          "output_type": "display_data",
          "data": {
            "text/plain": [
              "<Figure size 640x480 with 0 Axes>"
            ]
          },
          "metadata": {}
        }
      ]
    },
    {
      "cell_type": "markdown",
      "source": [
        "## **From the above plots we can clearly tell the following interpretation**\n",
        "### **1. Job**\n",
        "Most Target : blue-collar  \n",
        "Least Target : student\n",
        "### **2. Marital**\n",
        "Most Target : married  \n",
        "Least Target : divorced\n",
        "### **3. Education-qualification**\n",
        "Most Target : secondary   \n",
        "Least Target : primary\n",
        "### **4. Call_type**\n",
        "Most Target : cellular   \n",
        "Least Target : telephone\n",
        "### **5. Month**\n",
        "Most Target : may  \n",
        "Least Target : december\n",
        "### **6. Previous-outcome**\n",
        "Most Target : unknown  \n",
        "Least Target : success"
      ],
      "metadata": {
        "id": "oYftLKUoONk6"
      }
    },
    {
      "cell_type": "markdown",
      "source": [
        "### **Distribution Of Numerical Features**"
      ],
      "metadata": {
        "id": "_Pyx4ykQPfCK"
      }
    },
    {
      "cell_type": "code",
      "source": [
        "plt.figure(figsize=(20,15))\n",
        "\n",
        "plt.subplot(331)\n",
        "sns.histplot(df['age'])\n",
        "\n",
        "plt.subplot(332)\n",
        "sns.histplot(df['day'])\n",
        "\n",
        "plt.subplot(334)\n",
        "sns.histplot(df['dur'])\n",
        "\n",
        "plt.subplot(335)\n",
        "sns.histplot(df['num_calls'])\n",
        "\n",
        "plt.show()\n",
        "plt.tight_layout()"
      ],
      "metadata": {
        "colab": {
          "base_uri": "https://localhost:8080/",
          "height": 844
        },
        "id": "ZQi0WtCGGOnV",
        "outputId": "30b05fb8-290d-478d-9bf3-095dc8156766"
      },
      "execution_count": 77,
      "outputs": [
        {
          "output_type": "display_data",
          "data": {
            "text/plain": [
              "<Figure size 2000x1500 with 4 Axes>"
            ],
            "image/png": "[encoded data removed]"
          },
          "metadata": {}
        },
        {
          "output_type": "display_data",
          "data": {
            "text/plain": [
              "<Figure size 640x480 with 0 Axes>"
            ]
          },
          "metadata": {}
        }
      ]
    },
    {
      "cell_type": "markdown",
      "source": [
        "## **From the above plots we can clearly tell the following interpretation**\n",
        "### **1. Age**\n",
        "Most Target : 30 to 40 years  \n",
        "Least Target : belove 20 and above 60\n",
        "### **2. Day**\n",
        "Most Target : mid of the month  \n",
        "Least Target : beginning of the month\n",
        "### **3. Duration**\n",
        "Most Target : around 30 mins  \n",
        "Least Target : around 100 to 200 seconds\n",
        "### **4. Number-Of-Calls**\n",
        "Most Target : most people contacted 1 time  \n",
        "Least Target : contacted 5 times"
      ],
      "metadata": {
        "id": "v4u1U0DkQgpv"
      }
    },
    {
      "cell_type": "markdown",
      "source": [
        "## **Categorical features vs Target --->    Job, Marital, Educational Qualification, Call Type, Month**"
      ],
      "metadata": {
        "id": "Pp59RdbZlIEG"
      }
    },
    {
      "cell_type": "markdown",
      "source": [
        "**Sorting**"
      ],
      "metadata": {
        "id": "ZdzeX9UBltP_"
      }
    },
    {
      "cell_type": "code",
      "source": [
        "job_order = df['job'].value_counts().index[::-1]\n",
        "marital_order = df['marital'].value_counts().index[::-1]\n",
        "education_qual_order = df['education_qual'].value_counts().index[::-1]\n",
        "call_type_order = df['call_type'].value_counts().index[::-1]\n",
        "mon_order = df['mon'].value_counts().index[::-1]\n",
        "prev_outcome_order = df['prev_outcome'].value_counts().index[::-1]"
      ],
      "metadata": {
        "id": "D53w_MhdlG7Y"
      },
      "execution_count": 78,
      "outputs": []
    },
    {
      "cell_type": "code",
      "source": [
        "plt.figure(figsize=(25,28))\n",
        "\n",
        "plt.subplot(331)\n",
        "sns.countplot(x='job', hue='target', data=df, order=job_order)\n",
        "plt.xticks(rotation=55)\n",
        "plt.title('Job vs Target', fontweight='bold')\n",
        "\n",
        "plt.subplot(332)\n",
        "sns.countplot(x='marital', hue='target', data=df, order=marital_order)\n",
        "plt.xticks(rotation=15)\n",
        "plt.title('Marital vs Target', fontweight='bold')\n",
        "\n",
        "plt.subplot(333)\n",
        "sns.countplot(x='education_qual', hue='target', data=df, order=education_qual_order)\n",
        "plt.xticks(rotation=15)\n",
        "plt.title('Education_qual vs Target', fontweight='bold')\n",
        "\n",
        "plt.subplot(334)\n",
        "sns.countplot(x='call_type', hue='target', data=df, order=call_type_order)\n",
        "plt.xticks(rotation=15)\n",
        "plt.title('Call_type vs Target', fontweight='bold')\n",
        "\n",
        "plt.subplot(335)\n",
        "sns.countplot(x='mon', hue='target', data=df, order=mon_order)\n",
        "plt.xticks(rotation=15)\n",
        "plt.title('Month vs Target', fontweight='bold')\n",
        "\n",
        "plt.subplot(336)\n",
        "sns.countplot(x='prev_outcome', hue='target', data=df, order=prev_outcome_order)\n",
        "plt.xticks(rotation=15)\n",
        "plt.title('Prev_Income vs Target', fontweight='bold')\n",
        "\n",
        "plt.show()\n",
        "plt.tight_layout()"
      ],
      "metadata": {
        "id": "CNSdt330GOuf",
        "colab": {
          "base_uri": "https://localhost:8080/",
          "height": 946
        },
        "outputId": "97917e89-a2d2-4afa-e25f-f1503b386e79"
      },
      "execution_count": 79,
      "outputs": [
        {
          "output_type": "display_data",
          "data": {
            "text/plain": [
              "<Figure size 2500x2800 with 6 Axes>"
            ],
            "image/png": "[encoded data removed]"
          },
          "metadata": {}
        },
        {
          "output_type": "display_data",
          "data": {
            "text/plain": [
              "<Figure size 640x480 with 0 Axes>"
            ]
          },
          "metadata": {}
        }
      ]
    },
    {
      "cell_type": "markdown",
      "source": [
        "## **From the above plots we can clearly tell the following interpretation**\n",
        "###**1. Job Vs Target**  \n",
        "Target (No) : Blue Collar  \n",
        "Suscribed (Yes): Management  \n",
        "###**2. Marital Vs Target**  \n",
        "Target (No) : married  \n",
        "Suscribed (Yes): married  \n",
        "###**3. Education-qualification Vs Target**  \n",
        "Target (No) : secondary  \n",
        "Suscribed (Yes): secondary  \n",
        "###**4. Call_type Vs Target**  \n",
        "Target (No) : cellular  \n",
        "Suscribed (Yes): cellular  \n",
        "###**5. Month Vs Target**  \n",
        "Target (No) : may  \n",
        "Suscribed (Yes): may  \n",
        "###**6. Previous-outcome Vs Target**  \n",
        "Target (No) : unknown  \n",
        "Suscribed (Yes): unknown"
      ],
      "metadata": {
        "id": "-CVJoO6w_uRY"
      }
    },
    {
      "cell_type": "markdown",
      "source": [
        "### **Numerical Variable vs Target ---> Age, Day, Duration, No of Calls**"
      ],
      "metadata": {
        "id": "dri7qI5V-RFR"
      }
    },
    {
      "cell_type": "code",
      "source": [
        "plt.figure(figsize=(16,10))\n",
        "\n",
        "plt.subplot(331)\n",
        "sns.histplot(x='age', hue='target', data=df, multiple=\"stack\")\n",
        "\n",
        "plt.subplot(332)\n",
        "sns.histplot(x='day', hue='target', data=df, multiple=\"stack\")\n",
        "\n",
        "plt.subplot(334)\n",
        "sns.histplot(x='dur', hue='target', data=df, multiple=\"stack\")\n",
        "\n",
        "plt.subplot(335)\n",
        "sns.histplot(x='num_calls', hue='target', data=df, multiple=\"stack\")\n",
        "\n",
        "plt.show()\n",
        "plt.tight_layout()"
      ],
      "metadata": {
        "id": "jeKVtrsdGOz0",
        "colab": {
          "base_uri": "https://localhost:8080/",
          "height": 0
        },
        "outputId": "579740cf-bfa6-40b3-9e0e-7dae56f7e154"
      },
      "execution_count": 80,
      "outputs": [
        {
          "output_type": "display_data",
          "data": {
            "text/plain": [
              "<Figure size 1600x1000 with 4 Axes>"
            ],
            "image/png": "[encoded data removed]"
          },
          "metadata": {}
        },
        {
          "output_type": "display_data",
          "data": {
            "text/plain": [
              "<Figure size 640x480 with 0 Axes>"
            ]
          },
          "metadata": {}
        }
      ]
    },
    {
      "cell_type": "markdown",
      "source": [
        "## **From the above plots we can clearly tell the following interpretation**\n",
        "\n",
        "##**Age vs Target**\n",
        "Target : Middle age people\n",
        "\n",
        "Subscribed : Middle age people\n",
        "\n",
        "##**Day vs Target**\n",
        "Target : Middle of Month\n",
        "\n",
        "Subscribed : Middle of Month\n",
        "\n",
        "##**Duration vs Target**\n",
        "Duration of call is also important to subscribe for insurance.\n",
        "\n",
        "##**No of Calls vs Target**\n",
        "No of calls increase subscrition also getting increase."
      ],
      "metadata": {
        "id": "M53DepUlB9cS"
      }
    },
    {
      "cell_type": "code",
      "source": [
        "df.head()"
      ],
      "metadata": {
        "colab": {
          "base_uri": "https://localhost:8080/",
          "height": 0
        },
        "id": "kbcl9QgWNyD2",
        "outputId": "a5d67aa7-e03d-4d55-9b9e-714205cb80da"
      },
      "execution_count": 81,
      "outputs": [
        {
          "output_type": "execute_result",
          "data": {
            "text/plain": [
              "    age           job  marital education_qual call_type  day  mon    dur  \\\n",
              "0  58.0    management  married       tertiary   unknown    5  may  261.0   \n",
              "1  44.0    technician   single      secondary   unknown    5  may  151.0   \n",
              "2  33.0  entrepreneur  married      secondary   unknown    5  may   76.0   \n",
              "5  35.0    management  married       tertiary   unknown    5  may  139.0   \n",
              "6  28.0    management   single       tertiary   unknown    5  may  217.0   \n",
              "\n",
              "   num_calls prev_outcome   y  target  \n",
              "0          1      unknown  no       0  \n",
              "1          1      unknown  no       0  \n",
              "2          1      unknown  no       0  \n",
              "5          1      unknown  no       0  \n",
              "6          1      unknown  no       0  "
            ],
            "text/html": [
              "\n",
              "  <div id=\"df-1eb729c2-e18f-4f26-864e-f45d51918208\" class=\"colab-df-container\">\n",
              "    <div>\n",
              "<style scoped>\n",
              "    .dataframe tbody tr th:only-of-type {\n",
              "        vertical-align: middle;\n",
              "    }\n",
              "\n",
              "    .dataframe tbody tr th {\n",
              "        vertical-align: top;\n",
              "    }\n",
              "\n",
              "    .dataframe thead th {\n",
              "        text-align: right;\n",
              "    }\n",
              "</style>\n",
              "<table border=\"1\" class=\"dataframe\">\n",
              "  <thead>\n",
              "    <tr style=\"text-align: right;\">\n",
              "      <th></th>\n",
              "      <th>age</th>\n",
              "      <th>job</th>\n",
              "      <th>marital</th>\n",
              "      <th>education_qual</th>\n",
              "      <th>call_type</th>\n",
              "      <th>day</th>\n",
              "      <th>mon</th>\n",
              "      <th>dur</th>\n",
              "      <th>num_calls</th>\n",
              "      <th>prev_outcome</th>\n",
              "      <th>y</th>\n",
              "      <th>target</th>\n",
              "    </tr>\n",
              "  </thead>\n",
              "  <tbody>\n",
              "    <tr>\n",
              "      <th>0</th>\n",
              "      <td>58.0</td>\n",
              "      <td>management</td>\n",
              "      <td>married</td>\n",
              "      <td>tertiary</td>\n",
              "      <td>unknown</td>\n",
              "      <td>5</td>\n",
              "      <td>may</td>\n",
              "      <td>261.0</td>\n",
              "      <td>1</td>\n",
              "      <td>unknown</td>\n",
              "      <td>no</td>\n",
              "      <td>0</td>\n",
              "    </tr>\n",
              "    <tr>\n",
              "      <th>1</th>\n",
              "      <td>44.0</td>\n",
              "      <td>technician</td>\n",
              "      <td>single</td>\n",
              "      <td>secondary</td>\n",
              "      <td>unknown</td>\n",
              "      <td>5</td>\n",
              "      <td>may</td>\n",
              "      <td>151.0</td>\n",
              "      <td>1</td>\n",
              "      <td>unknown</td>\n",
              "      <td>no</td>\n",
              "      <td>0</td>\n",
              "    </tr>\n",
              "    <tr>\n",
              "      <th>2</th>\n",
              "      <td>33.0</td>\n",
              "      <td>entrepreneur</td>\n",
              "      <td>married</td>\n",
              "      <td>secondary</td>\n",
              "      <td>unknown</td>\n",
              "      <td>5</td>\n",
              "      <td>may</td>\n",
              "      <td>76.0</td>\n",
              "      <td>1</td>\n",
              "      <td>unknown</td>\n",
              "      <td>no</td>\n",
              "      <td>0</td>\n",
              "    </tr>\n",
              "    <tr>\n",
              "      <th>5</th>\n",
              "      <td>35.0</td>\n",
              "      <td>management</td>\n",
              "      <td>married</td>\n",
              "      <td>tertiary</td>\n",
              "      <td>unknown</td>\n",
              "      <td>5</td>\n",
              "      <td>may</td>\n",
              "      <td>139.0</td>\n",
              "      <td>1</td>\n",
              "      <td>unknown</td>\n",
              "      <td>no</td>\n",
              "      <td>0</td>\n",
              "    </tr>\n",
              "    <tr>\n",
              "      <th>6</th>\n",
              "      <td>28.0</td>\n",
              "      <td>management</td>\n",
              "      <td>single</td>\n",
              "      <td>tertiary</td>\n",
              "      <td>unknown</td>\n",
              "      <td>5</td>\n",
              "      <td>may</td>\n",
              "      <td>217.0</td>\n",
              "      <td>1</td>\n",
              "      <td>unknown</td>\n",
              "      <td>no</td>\n",
              "      <td>0</td>\n",
              "    </tr>\n",
              "  </tbody>\n",
              "</table>\n",
              "</div>\n",
              "    <div class=\"colab-df-buttons\">\n",
              "\n",
              "  <div class=\"colab-df-container\">\n",
              "    <button class=\"colab-df-convert\" onclick=\"convertToInteractive('df-1eb729c2-e18f-4f26-864e-f45d51918208')\"\n",
              "            title=\"Convert this dataframe to an interactive table.\"\n",
              "            style=\"display:none;\">\n",
              "\n",
              "  <svg xmlns=\"http://www.w3.org/2000/svg\" height=\"24px\" viewBox=\"0 -960 960 960\">\n",
              "    <path d=\"M120-120v-720h720v720H120Zm60-500h600v-160H180v160Zm220 220h160v-160H400v160Zm0 220h160v-160H400v160ZM180-400h160v-160H180v160Zm440 0h160v-160H620v160ZM180-180h160v-160H180v160Zm440 0h160v-160H620v160Z\"/>\n",
              "  </svg>\n",
              "    </button>\n",
              "\n",
              "  <style>\n",
              "    .colab-df-container {\n",
              "      display:flex;\n",
              "      gap: 12px;\n",
              "    }\n",
              "\n",
              "    .colab-df-convert {\n",
              "      background-color: #E8F0FE;\n",
              "      border: none;\n",
              "      border-radius: 50%;\n",
              "      cursor: pointer;\n",
              "      display: none;\n",
              "      fill: #1967D2;\n",
              "      height: 32px;\n",
              "      padding: 0 0 0 0;\n",
              "      width: 32px;\n",
              "    }\n",
              "\n",
              "    .colab-df-convert:hover {\n",
              "      background-color: #E2EBFA;\n",
              "      box-shadow: 0px 1px 2px rgba(60, 64, 67, 0.3), 0px 1px 3px 1px rgba(60, 64, 67, 0.15);\n",
              "      fill: #174EA6;\n",
              "    }\n",
              "\n",
              "    .colab-df-buttons div {\n",
              "      margin-bottom: 4px;\n",
              "    }\n",
              "\n",
              "    [theme=dark] .colab-df-convert {\n",
              "      background-color: #3B4455;\n",
              "      fill: #D2E3FC;\n",
              "    }\n",
              "\n",
              "    [theme=dark] .colab-df-convert:hover {\n",
              "      background-color: #434B5C;\n",
              "      box-shadow: 0px 1px 3px 1px rgba(0, 0, 0, 0.15);\n",
              "      filter: drop-shadow(0px 1px 2px rgba(0, 0, 0, 0.3));\n",
              "      fill: #FFFFFF;\n",
              "    }\n",
              "  </style>\n",
              "\n",
              "    <script>\n",
              "      const buttonEl =\n",
              "        document.querySelector('#df-1eb729c2-e18f-4f26-864e-f45d51918208 button.colab-df-convert');\n",
              "      buttonEl.style.display =\n",
              "        google.colab.kernel.accessAllowed ? 'block' : 'none';\n",
              "\n",
              "      async function convertToInteractive(key) {\n",
              "        const element = document.querySelector('#df-1eb729c2-e18f-4f26-864e-f45d51918208');\n",
              "        const dataTable =\n",
              "          await google.colab.kernel.invokeFunction('convertToInteractive',\n",
              "                                                    [key], {});\n",
              "        if (!dataTable) return;\n",
              "\n",
              "        const docLinkHtml = 'Like what you see? Visit the ' +\n",
              "          '<a target=\"_blank\" href=https://colab.research.google.com/notebooks/data_table.ipynb>data table notebook</a>'\n",
              "          + ' to learn more about interactive tables.';\n",
              "        element.innerHTML = '';\n",
              "        dataTable['output_type'] = 'display_data';\n",
              "        await google.colab.output.renderOutput(dataTable, element);\n",
              "        const docLink = document.createElement('div');\n",
              "        docLink.innerHTML = docLinkHtml;\n",
              "        element.appendChild(docLink);\n",
              "      }\n",
              "    </script>\n",
              "  </div>\n",
              "\n",
              "\n",
              "<div id=\"df-a99dd5c5-fc9c-4d28-8673-f29e5faf8f8a\">\n",
              "  <button class=\"colab-df-quickchart\" onclick=\"quickchart('df-a99dd5c5-fc9c-4d28-8673-f29e5faf8f8a')\"\n",
              "            title=\"Suggest charts.\"\n",
              "            style=\"display:none;\">\n",
              "\n",
              "<svg xmlns=\"http://www.w3.org/2000/svg\" height=\"24px\"viewBox=\"0 0 24 24\"\n",
              "     width=\"24px\">\n",
              "    <g>\n",
              "        <path d=\"M19 3H5c-1.1 0-2 .9-2 2v14c0 1.1.9 2 2 2h14c1.1 0 2-.9 2-2V5c0-1.1-.9-2-2-2zM9 17H7v-7h2v7zm4 0h-2V7h2v10zm4 0h-2v-4h2v4z\"/>\n",
              "    </g>\n",
              "</svg>\n",
              "  </button>\n",
              "\n",
              "<style>\n",
              "  .colab-df-quickchart {\n",
              "      --bg-color: #E8F0FE;\n",
              "      --fill-color: #1967D2;\n",
              "      --hover-bg-color: #E2EBFA;\n",
              "      --hover-fill-color: #174EA6;\n",
              "      --disabled-fill-color: #AAA;\n",
              "      --disabled-bg-color: #DDD;\n",
              "  }\n",
              "\n",
              "  [theme=dark] .colab-df-quickchart {\n",
              "      --bg-color: #3B4455;\n",
              "      --fill-color: #D2E3FC;\n",
              "      --hover-bg-color: #434B5C;\n",
              "      --hover-fill-color: #FFFFFF;\n",
              "      --disabled-bg-color: #3B4455;\n",
              "      --disabled-fill-color: #666;\n",
              "  }\n",
              "\n",
              "  .colab-df-quickchart {\n",
              "    background-color: var(--bg-color);\n",
              "    border: none;\n",
              "    border-radius: 50%;\n",
              "    cursor: pointer;\n",
              "    display: none;\n",
              "    fill: var(--fill-color);\n",
              "    height: 32px;\n",
              "    padding: 0;\n",
              "    width: 32px;\n",
              "  }\n",
              "\n",
              "  .colab-df-quickchart:hover {\n",
              "    background-color: var(--hover-bg-color);\n",
              "    box-shadow: 0 1px 2px rgba(60, 64, 67, 0.3), 0 1px 3px 1px rgba(60, 64, 67, 0.15);\n",
              "    fill: var(--button-hover-fill-color);\n",
              "  }\n",
              "\n",
              "  .colab-df-quickchart-complete:disabled,\n",
              "  .colab-df-quickchart-complete:disabled:hover {\n",
              "    background-color: var(--disabled-bg-color);\n",
              "    fill: var(--disabled-fill-color);\n",
              "    box-shadow: none;\n",
              "  }\n",
              "\n",
              "  .colab-df-spinner {\n",
              "    border: 2px solid var(--fill-color);\n",
              "    border-color: transparent;\n",
              "    border-bottom-color: var(--fill-color);\n",
              "    animation:\n",
              "      spin 1s steps(1) infinite;\n",
              "  }\n",
              "\n",
              "  @keyframes spin {\n",
              "    0% {\n",
              "      border-color: transparent;\n",
              "      border-bottom-color: var(--fill-color);\n",
              "      border-left-color: var(--fill-color);\n",
              "    }\n",
              "    20% {\n",
              "      border-color: transparent;\n",
              "      border-left-color: var(--fill-color);\n",
              "      border-top-color: var(--fill-color);\n",
              "    }\n",
              "    30% {\n",
              "      border-color: transparent;\n",
              "      border-left-color: var(--fill-color);\n",
              "      border-top-color: var(--fill-color);\n",
              "      border-right-color: var(--fill-color);\n",
              "    }\n",
              "    40% {\n",
              "      border-color: transparent;\n",
              "      border-right-color: var(--fill-color);\n",
              "      border-top-color: var(--fill-color);\n",
              "    }\n",
              "    60% {\n",
              "      border-color: transparent;\n",
              "      border-right-color: var(--fill-color);\n",
              "    }\n",
              "    80% {\n",
              "      border-color: transparent;\n",
              "      border-right-color: var(--fill-color);\n",
              "      border-bottom-color: var(--fill-color);\n",
              "    }\n",
              "    90% {\n",
              "      border-color: transparent;\n",
              "      border-bottom-color: var(--fill-color);\n",
              "    }\n",
              "  }\n",
              "</style>\n",
              "\n",
              "  <script>\n",
              "    async function quickchart(key) {\n",
              "      const quickchartButtonEl =\n",
              "        document.querySelector('#' + key + ' button');\n",
              "      quickchartButtonEl.disabled = true;  // To prevent multiple clicks.\n",
              "      quickchartButtonEl.classList.add('colab-df-spinner');\n",
              "      try {\n",
              "        const charts = await google.colab.kernel.invokeFunction(\n",
              "            'suggestCharts', [key], {});\n",
              "      } catch (error) {\n",
              "        console.error('Error during call to suggestCharts:', error);\n",
              "      }\n",
              "      quickchartButtonEl.classList.remove('colab-df-spinner');\n",
              "      quickchartButtonEl.classList.add('colab-df-quickchart-complete');\n",
              "    }\n",
              "    (() => {\n",
              "      let quickchartButtonEl =\n",
              "        document.querySelector('#df-a99dd5c5-fc9c-4d28-8673-f29e5faf8f8a button');\n",
              "      quickchartButtonEl.style.display =\n",
              "        google.colab.kernel.accessAllowed ? 'block' : 'none';\n",
              "    })();\n",
              "  </script>\n",
              "</div>\n",
              "    </div>\n",
              "  </div>\n"
            ]
          },
          "metadata": {},
          "execution_count": 81
        }
      ]
    },
    {
      "cell_type": "markdown",
      "source": [
        "# **Encoding**"
      ],
      "metadata": {
        "id": "xPDm_C9_LcUi"
      }
    },
    {
      "cell_type": "code",
      "source": [
        "# We're doing label encoding because thers's an order\n",
        "\n",
        "df['marital'] = df['marital'].map({'divorced':0,'single':1,'married':2})\n",
        "df['education_qual'] = df['education_qual'].map({'primary':0,'tertiary':2,'secondary':3})\n",
        "df['call_type'] = df['call_type'].map({'telephone':0,'unknown':1,'cellular':2})\n",
        "df['mon'] = df['mon'].map({'dec':0,'mar':1,'sep':2,'oct':3,'jan':4,'feb':5,'apr':6,'nov':7,'jun':8,'aug':9,'jul':10,'may':11})\n",
        "\n",
        "# Here i'm using onehot encoding because no order in this column\n",
        "\n",
        "df = pd.get_dummies(df,columns =['prev_outcome','job'])"
      ],
      "metadata": {
        "id": "nH36tD-HGO4K"
      },
      "execution_count": 82,
      "outputs": []
    },
    {
      "cell_type": "code",
      "source": [
        "del df['y']\n",
        "df.head()"
      ],
      "metadata": {
        "id": "LZRgosNjGO8N",
        "colab": {
          "base_uri": "https://localhost:8080/",
          "height": 273
        },
        "outputId": "f98d4ebe-4600-4cea-ab81-fb9dd69d5c76"
      },
      "execution_count": 83,
      "outputs": [
        {
          "output_type": "execute_result",
          "data": {
            "text/plain": [
              "    age  marital  education_qual  call_type  day  mon    dur  num_calls  \\\n",
              "0  58.0        2               2          1    5   11  261.0          1   \n",
              "1  44.0        1               3          1    5   11  151.0          1   \n",
              "2  33.0        2               3          1    5   11   76.0          1   \n",
              "5  35.0        2               2          1    5   11  139.0          1   \n",
              "6  28.0        1               2          1    5   11  217.0          1   \n",
              "\n",
              "   target  prev_outcome_failure  ...  job_blue-collar  job_entrepreneur  \\\n",
              "0       0                     0  ...                0                 0   \n",
              "1       0                     0  ...                0                 0   \n",
              "2       0                     0  ...                0                 1   \n",
              "5       0                     0  ...                0                 0   \n",
              "6       0                     0  ...                0                 0   \n",
              "\n",
              "   job_housemaid  job_management  job_retired  job_self-employed  \\\n",
              "0              0               1            0                  0   \n",
              "1              0               0            0                  0   \n",
              "2              0               0            0                  0   \n",
              "5              0               1            0                  0   \n",
              "6              0               1            0                  0   \n",
              "\n",
              "   job_services  job_student  job_technician  job_unemployed  \n",
              "0             0            0               0               0  \n",
              "1             0            0               1               0  \n",
              "2             0            0               0               0  \n",
              "5             0            0               0               0  \n",
              "6             0            0               0               0  \n",
              "\n",
              "[5 rows x 24 columns]"
            ],
            "text/html": [
              "\n",
              "  <div id=\"df-65ea0938-ea86-43ac-bc8b-3792b91234c9\" class=\"colab-df-container\">\n",
              "    <div>\n",
              "<style scoped>\n",
              "    .dataframe tbody tr th:only-of-type {\n",
              "        vertical-align: middle;\n",
              "    }\n",
              "\n",
              "    .dataframe tbody tr th {\n",
              "        vertical-align: top;\n",
              "    }\n",
              "\n",
              "    .dataframe thead th {\n",
              "        text-align: right;\n",
              "    }\n",
              "</style>\n",
              "<table border=\"1\" class=\"dataframe\">\n",
              "  <thead>\n",
              "    <tr style=\"text-align: right;\">\n",
              "      <th></th>\n",
              "      <th>age</th>\n",
              "      <th>marital</th>\n",
              "      <th>education_qual</th>\n",
              "      <th>call_type</th>\n",
              "      <th>day</th>\n",
              "      <th>mon</th>\n",
              "      <th>dur</th>\n",
              "      <th>num_calls</th>\n",
              "      <th>target</th>\n",
              "      <th>prev_outcome_failure</th>\n",
              "      <th>...</th>\n",
              "      <th>job_blue-collar</th>\n",
              "      <th>job_entrepreneur</th>\n",
              "      <th>job_housemaid</th>\n",
              "      <th>job_management</th>\n",
              "      <th>job_retired</th>\n",
              "      <th>job_self-employed</th>\n",
              "      <th>job_services</th>\n",
              "      <th>job_student</th>\n",
              "      <th>job_technician</th>\n",
              "      <th>job_unemployed</th>\n",
              "    </tr>\n",
              "  </thead>\n",
              "  <tbody>\n",
              "    <tr>\n",
              "      <th>0</th>\n",
              "      <td>58.0</td>\n",
              "      <td>2</td>\n",
              "      <td>2</td>\n",
              "      <td>1</td>\n",
              "      <td>5</td>\n",
              "      <td>11</td>\n",
              "      <td>261.0</td>\n",
              "      <td>1</td>\n",
              "      <td>0</td>\n",
              "      <td>0</td>\n",
              "      <td>...</td>\n",
              "      <td>0</td>\n",
              "      <td>0</td>\n",
              "      <td>0</td>\n",
              "      <td>1</td>\n",
              "      <td>0</td>\n",
              "      <td>0</td>\n",
              "      <td>0</td>\n",
              "      <td>0</td>\n",
              "      <td>0</td>\n",
              "      <td>0</td>\n",
              "    </tr>\n",
              "    <tr>\n",
              "      <th>1</th>\n",
              "      <td>44.0</td>\n",
              "      <td>1</td>\n",
              "      <td>3</td>\n",
              "      <td>1</td>\n",
              "      <td>5</td>\n",
              "      <td>11</td>\n",
              "      <td>151.0</td>\n",
              "      <td>1</td>\n",
              "      <td>0</td>\n",
              "      <td>0</td>\n",
              "      <td>...</td>\n",
              "      <td>0</td>\n",
              "      <td>0</td>\n",
              "      <td>0</td>\n",
              "      <td>0</td>\n",
              "      <td>0</td>\n",
              "      <td>0</td>\n",
              "      <td>0</td>\n",
              "      <td>0</td>\n",
              "      <td>1</td>\n",
              "      <td>0</td>\n",
              "    </tr>\n",
              "    <tr>\n",
              "      <th>2</th>\n",
              "      <td>33.0</td>\n",
              "      <td>2</td>\n",
              "      <td>3</td>\n",
              "      <td>1</td>\n",
              "      <td>5</td>\n",
              "      <td>11</td>\n",
              "      <td>76.0</td>\n",
              "      <td>1</td>\n",
              "      <td>0</td>\n",
              "      <td>0</td>\n",
              "      <td>...</td>\n",
              "      <td>0</td>\n",
              "      <td>1</td>\n",
              "      <td>0</td>\n",
              "      <td>0</td>\n",
              "      <td>0</td>\n",
              "      <td>0</td>\n",
              "      <td>0</td>\n",
              "      <td>0</td>\n",
              "      <td>0</td>\n",
              "      <td>0</td>\n",
              "    </tr>\n",
              "    <tr>\n",
              "      <th>5</th>\n",
              "      <td>35.0</td>\n",
              "      <td>2</td>\n",
              "      <td>2</td>\n",
              "      <td>1</td>\n",
              "      <td>5</td>\n",
              "      <td>11</td>\n",
              "      <td>139.0</td>\n",
              "      <td>1</td>\n",
              "      <td>0</td>\n",
              "      <td>0</td>\n",
              "      <td>...</td>\n",
              "      <td>0</td>\n",
              "      <td>0</td>\n",
              "      <td>0</td>\n",
              "      <td>1</td>\n",
              "      <td>0</td>\n",
              "      <td>0</td>\n",
              "      <td>0</td>\n",
              "      <td>0</td>\n",
              "      <td>0</td>\n",
              "      <td>0</td>\n",
              "    </tr>\n",
              "    <tr>\n",
              "      <th>6</th>\n",
              "      <td>28.0</td>\n",
              "      <td>1</td>\n",
              "      <td>2</td>\n",
              "      <td>1</td>\n",
              "      <td>5</td>\n",
              "      <td>11</td>\n",
              "      <td>217.0</td>\n",
              "      <td>1</td>\n",
              "      <td>0</td>\n",
              "      <td>0</td>\n",
              "      <td>...</td>\n",
              "      <td>0</td>\n",
              "      <td>0</td>\n",
              "      <td>0</td>\n",
              "      <td>1</td>\n",
              "      <td>0</td>\n",
              "      <td>0</td>\n",
              "      <td>0</td>\n",
              "      <td>0</td>\n",
              "      <td>0</td>\n",
              "      <td>0</td>\n",
              "    </tr>\n",
              "  </tbody>\n",
              "</table>\n",
              "<p>5 rows × 24 columns</p>\n",
              "</div>\n",
              "    <div class=\"colab-df-buttons\">\n",
              "\n",
              "  <div class=\"colab-df-container\">\n",
              "    <button class=\"colab-df-convert\" onclick=\"convertToInteractive('df-65ea0938-ea86-43ac-bc8b-3792b91234c9')\"\n",
              "            title=\"Convert this dataframe to an interactive table.\"\n",
              "            style=\"display:none;\">\n",
              "\n",
              "  <svg xmlns=\"http://www.w3.org/2000/svg\" height=\"24px\" viewBox=\"0 -960 960 960\">\n",
              "    <path d=\"M120-120v-720h720v720H120Zm60-500h600v-160H180v160Zm220 220h160v-160H400v160Zm0 220h160v-160H400v160ZM180-400h160v-160H180v160Zm440 0h160v-160H620v160ZM180-180h160v-160H180v160Zm440 0h160v-160H620v160Z\"/>\n",
              "  </svg>\n",
              "    </button>\n",
              "\n",
              "  <style>\n",
              "    .colab-df-container {\n",
              "      display:flex;\n",
              "      gap: 12px;\n",
              "    }\n",
              "\n",
              "    .colab-df-convert {\n",
              "      background-color: #E8F0FE;\n",
              "      border: none;\n",
              "      border-radius: 50%;\n",
              "      cursor: pointer;\n",
              "      display: none;\n",
              "      fill: #1967D2;\n",
              "      height: 32px;\n",
              "      padding: 0 0 0 0;\n",
              "      width: 32px;\n",
              "    }\n",
              "\n",
              "    .colab-df-convert:hover {\n",
              "      background-color: #E2EBFA;\n",
              "      box-shadow: 0px 1px 2px rgba(60, 64, 67, 0.3), 0px 1px 3px 1px rgba(60, 64, 67, 0.15);\n",
              "      fill: #174EA6;\n",
              "    }\n",
              "\n",
              "    .colab-df-buttons div {\n",
              "      margin-bottom: 4px;\n",
              "    }\n",
              "\n",
              "    [theme=dark] .colab-df-convert {\n",
              "      background-color: #3B4455;\n",
              "      fill: #D2E3FC;\n",
              "    }\n",
              "\n",
              "    [theme=dark] .colab-df-convert:hover {\n",
              "      background-color: #434B5C;\n",
              "      box-shadow: 0px 1px 3px 1px rgba(0, 0, 0, 0.15);\n",
              "      filter: drop-shadow(0px 1px 2px rgba(0, 0, 0, 0.3));\n",
              "      fill: #FFFFFF;\n",
              "    }\n",
              "  </style>\n",
              "\n",
              "    <script>\n",
              "      const buttonEl =\n",
              "        document.querySelector('#df-65ea0938-ea86-43ac-bc8b-3792b91234c9 button.colab-df-convert');\n",
              "      buttonEl.style.display =\n",
              "        google.colab.kernel.accessAllowed ? 'block' : 'none';\n",
              "\n",
              "      async function convertToInteractive(key) {\n",
              "        const element = document.querySelector('#df-65ea0938-ea86-43ac-bc8b-3792b91234c9');\n",
              "        const dataTable =\n",
              "          await google.colab.kernel.invokeFunction('convertToInteractive',\n",
              "                                                    [key], {});\n",
              "        if (!dataTable) return;\n",
              "\n",
              "        const docLinkHtml = 'Like what you see? Visit the ' +\n",
              "          '<a target=\"_blank\" href=https://colab.research.google.com/notebooks/data_table.ipynb>data table notebook</a>'\n",
              "          + ' to learn more about interactive tables.';\n",
              "        element.innerHTML = '';\n",
              "        dataTable['output_type'] = 'display_data';\n",
              "        await google.colab.output.renderOutput(dataTable, element);\n",
              "        const docLink = document.createElement('div');\n",
              "        docLink.innerHTML = docLinkHtml;\n",
              "        element.appendChild(docLink);\n",
              "      }\n",
              "    </script>\n",
              "  </div>\n",
              "\n",
              "\n",
              "<div id=\"df-2c70dd72-c963-44f8-9319-95c2fa32ea8d\">\n",
              "  <button class=\"colab-df-quickchart\" onclick=\"quickchart('df-2c70dd72-c963-44f8-9319-95c2fa32ea8d')\"\n",
              "            title=\"Suggest charts.\"\n",
              "            style=\"display:none;\">\n",
              "\n",
              "<svg xmlns=\"http://www.w3.org/2000/svg\" height=\"24px\"viewBox=\"0 0 24 24\"\n",
              "     width=\"24px\">\n",
              "    <g>\n",
              "        <path d=\"M19 3H5c-1.1 0-2 .9-2 2v14c0 1.1.9 2 2 2h14c1.1 0 2-.9 2-2V5c0-1.1-.9-2-2-2zM9 17H7v-7h2v7zm4 0h-2V7h2v10zm4 0h-2v-4h2v4z\"/>\n",
              "    </g>\n",
              "</svg>\n",
              "  </button>\n",
              "\n",
              "<style>\n",
              "  .colab-df-quickchart {\n",
              "      --bg-color: #E8F0FE;\n",
              "      --fill-color: #1967D2;\n",
              "      --hover-bg-color: #E2EBFA;\n",
              "      --hover-fill-color: #174EA6;\n",
              "      --disabled-fill-color: #AAA;\n",
              "      --disabled-bg-color: #DDD;\n",
              "  }\n",
              "\n",
              "  [theme=dark] .colab-df-quickchart {\n",
              "      --bg-color: #3B4455;\n",
              "      --fill-color: #D2E3FC;\n",
              "      --hover-bg-color: #434B5C;\n",
              "      --hover-fill-color: #FFFFFF;\n",
              "      --disabled-bg-color: #3B4455;\n",
              "      --disabled-fill-color: #666;\n",
              "  }\n",
              "\n",
              "  .colab-df-quickchart {\n",
              "    background-color: var(--bg-color);\n",
              "    border: none;\n",
              "    border-radius: 50%;\n",
              "    cursor: pointer;\n",
              "    display: none;\n",
              "    fill: var(--fill-color);\n",
              "    height: 32px;\n",
              "    padding: 0;\n",
              "    width: 32px;\n",
              "  }\n",
              "\n",
              "  .colab-df-quickchart:hover {\n",
              "    background-color: var(--hover-bg-color);\n",
              "    box-shadow: 0 1px 2px rgba(60, 64, 67, 0.3), 0 1px 3px 1px rgba(60, 64, 67, 0.15);\n",
              "    fill: var(--button-hover-fill-color);\n",
              "  }\n",
              "\n",
              "  .colab-df-quickchart-complete:disabled,\n",
              "  .colab-df-quickchart-complete:disabled:hover {\n",
              "    background-color: var(--disabled-bg-color);\n",
              "    fill: var(--disabled-fill-color);\n",
              "    box-shadow: none;\n",
              "  }\n",
              "\n",
              "  .colab-df-spinner {\n",
              "    border: 2px solid var(--fill-color);\n",
              "    border-color: transparent;\n",
              "    border-bottom-color: var(--fill-color);\n",
              "    animation:\n",
              "      spin 1s steps(1) infinite;\n",
              "  }\n",
              "\n",
              "  @keyframes spin {\n",
              "    0% {\n",
              "      border-color: transparent;\n",
              "      border-bottom-color: var(--fill-color);\n",
              "      border-left-color: var(--fill-color);\n",
              "    }\n",
              "    20% {\n",
              "      border-color: transparent;\n",
              "      border-left-color: var(--fill-color);\n",
              "      border-top-color: var(--fill-color);\n",
              "    }\n",
              "    30% {\n",
              "      border-color: transparent;\n",
              "      border-left-color: var(--fill-color);\n",
              "      border-top-color: var(--fill-color);\n",
              "      border-right-color: var(--fill-color);\n",
              "    }\n",
              "    40% {\n",
              "      border-color: transparent;\n",
              "      border-right-color: var(--fill-color);\n",
              "      border-top-color: var(--fill-color);\n",
              "    }\n",
              "    60% {\n",
              "      border-color: transparent;\n",
              "      border-right-color: var(--fill-color);\n",
              "    }\n",
              "    80% {\n",
              "      border-color: transparent;\n",
              "      border-right-color: var(--fill-color);\n",
              "      border-bottom-color: var(--fill-color);\n",
              "    }\n",
              "    90% {\n",
              "      border-color: transparent;\n",
              "      border-bottom-color: var(--fill-color);\n",
              "    }\n",
              "  }\n",
              "</style>\n",
              "\n",
              "  <script>\n",
              "    async function quickchart(key) {\n",
              "      const quickchartButtonEl =\n",
              "        document.querySelector('#' + key + ' button');\n",
              "      quickchartButtonEl.disabled = true;  // To prevent multiple clicks.\n",
              "      quickchartButtonEl.classList.add('colab-df-spinner');\n",
              "      try {\n",
              "        const charts = await google.colab.kernel.invokeFunction(\n",
              "            'suggestCharts', [key], {});\n",
              "      } catch (error) {\n",
              "        console.error('Error during call to suggestCharts:', error);\n",
              "      }\n",
              "      quickchartButtonEl.classList.remove('colab-df-spinner');\n",
              "      quickchartButtonEl.classList.add('colab-df-quickchart-complete');\n",
              "    }\n",
              "    (() => {\n",
              "      let quickchartButtonEl =\n",
              "        document.querySelector('#df-2c70dd72-c963-44f8-9319-95c2fa32ea8d button');\n",
              "      quickchartButtonEl.style.display =\n",
              "        google.colab.kernel.accessAllowed ? 'block' : 'none';\n",
              "    })();\n",
              "  </script>\n",
              "</div>\n",
              "    </div>\n",
              "  </div>\n"
            ]
          },
          "metadata": {},
          "execution_count": 83
        }
      ]
    },
    {
      "cell_type": "markdown",
      "source": [
        "# **Spliting**"
      ],
      "metadata": {
        "id": "pFNZ5qG8RUcq"
      }
    },
    {
      "cell_type": "code",
      "source": [
        "from sklearn.model_selection import train_test_split\n",
        "\n",
        "x = df.drop('target',axis = 1).values\n",
        "y = df['target'].values\n",
        "\n",
        "x_train, x_test, y_train, y_test = train_test_split(x,y, test_size=0.2, random_state=42)"
      ],
      "metadata": {
        "id": "VwAmOuy3GPBM"
      },
      "execution_count": 84,
      "outputs": []
    },
    {
      "cell_type": "markdown",
      "source": [
        "# **Balancing**"
      ],
      "metadata": {
        "id": "uOGfmo29Swcd"
      }
    },
    {
      "cell_type": "code",
      "source": [
        "#Balancing the data\n",
        "from imblearn.combine import SMOTEENN\n",
        "smt = SMOTEENN(sampling_strategy='all')\n",
        "x_train_smt, y_train_smt = smt.fit_resample(x_train, y_train)"
      ],
      "metadata": {
        "id": "V3mEyhuQGPFh"
      },
      "execution_count": 85,
      "outputs": []
    },
    {
      "cell_type": "code",
      "source": [
        "print(len(x_train_smt))\n",
        "print(len(y_train_smt))"
      ],
      "metadata": {
        "id": "rkIE9G5GGPJv",
        "colab": {
          "base_uri": "https://localhost:8080/"
        },
        "outputId": "21b6d0f5-2a48-4b7f-aa88-c1f7c51f76c3"
      },
      "execution_count": 86,
      "outputs": [
        {
          "output_type": "stream",
          "name": "stdout",
          "text": [
            "51699\n",
            "51699\n"
          ]
        }
      ]
    },
    {
      "cell_type": "markdown",
      "source": [
        "# **Scaling**"
      ],
      "metadata": {
        "id": "LBYsdpFeU6tr"
      }
    },
    {
      "cell_type": "code",
      "source": [
        "#scaling the data\n",
        "from sklearn.preprocessing import StandardScaler\n",
        "scaler = StandardScaler()\n",
        "x_train_scaled = scaler.fit_transform(x_train_smt)\n",
        "x_test_scaled = scaler.transform(x_test)"
      ],
      "metadata": {
        "id": "UWVzEpPsGPN9"
      },
      "execution_count": 87,
      "outputs": []
    },
    {
      "cell_type": "markdown",
      "source": [
        "##**Building Machine Learning Model**"
      ],
      "metadata": {
        "id": "66Yh1y97VC97"
      }
    },
    {
      "cell_type": "markdown",
      "source": [
        "## **Logistic Regression**"
      ],
      "metadata": {
        "id": "gxem109CWPpe"
      }
    },
    {
      "cell_type": "code",
      "source": [
        "from sklearn.linear_model import LogisticRegression\n",
        "from sklearn.metrics import roc_auc_score\n",
        "\n",
        "lr = LogisticRegression()\n",
        "\n",
        "lr.fit(x_train_scaled,y_train_smt)\n",
        "lr.score(x_test_scaled,y_test)\n"
      ],
      "metadata": {
        "id": "k0JBejE_GPSL",
        "colab": {
          "base_uri": "https://localhost:8080/"
        },
        "outputId": "8aa1b51b-6cc4-4bd4-a993-32c4fedfad80"
      },
      "execution_count": 88,
      "outputs": [
        {
          "output_type": "execute_result",
          "data": {
            "text/plain": [
              "0.7676545496642742"
            ]
          },
          "metadata": {},
          "execution_count": 88
        }
      ]
    },
    {
      "cell_type": "code",
      "source": [
        "y_pred=lr.predict_proba(x_test_scaled)\n",
        "y_pred"
      ],
      "metadata": {
        "id": "tHKT0L1ZGPWf",
        "colab": {
          "base_uri": "https://localhost:8080/"
        },
        "outputId": "2f2976cd-011a-4344-e05b-e30622092df0"
      },
      "execution_count": 89,
      "outputs": [
        {
          "output_type": "execute_result",
          "data": {
            "text/plain": [
              "array([[0.94719943, 0.05280057],\n",
              "       [0.27989622, 0.72010378],\n",
              "       [0.0014877 , 0.9985123 ],\n",
              "       ...,\n",
              "       [0.20004178, 0.79995822],\n",
              "       [0.01185394, 0.98814606],\n",
              "       [0.01161261, 0.98838739]])"
            ]
          },
          "metadata": {},
          "execution_count": 89
        }
      ]
    },
    {
      "cell_type": "code",
      "source": [
        "log_reg_auroc = roc_auc_score(y_test,y_pred[:,1])\n",
        "print(\"AUROC score for logistic regression  :  \",round(log_reg_auroc,2))"
      ],
      "metadata": {
        "id": "5srVwGfMGPav",
        "colab": {
          "base_uri": "https://localhost:8080/"
        },
        "outputId": "c64f7423-a1ac-4bad-9f47-3435ff0af132"
      },
      "execution_count": 90,
      "outputs": [
        {
          "output_type": "stream",
          "name": "stdout",
          "text": [
            "AUROC score for logistic regression  :   0.89\n"
          ]
        }
      ]
    },
    {
      "cell_type": "markdown",
      "source": [
        "## **K-Nearest Neighbour (KNN)**"
      ],
      "metadata": {
        "id": "rPmYAeWuXoVq"
      }
    },
    {
      "cell_type": "code",
      "source": [
        "from sklearn.neighbors import KNeighborsClassifier\n",
        "from sklearn.model_selection import cross_val_score\n",
        "for i in [1,2,3,4,5,6,7,8,9,10,20,30,40,50]:\n",
        "  knn= KNeighborsClassifier(i)\n",
        "  knn.fit(x_train_scaled, y_train_smt)\n",
        "  print(\"K value :\", i, \"Train Score : \", knn.score(x_train_scaled,y_train_smt), \"Cross Value Accuracy :\" , np.mean(cross_val_score(knn, x_test_scaled, y_test, cv=10)))"
      ],
      "metadata": {
        "id": "HT1hNJ9zGPfA",
        "colab": {
          "base_uri": "https://localhost:8080/"
        },
        "outputId": "798d8397-adf9-4abd-902f-a92dc5d52667"
      },
      "execution_count": 91,
      "outputs": [
        {
          "output_type": "stream",
          "name": "stdout",
          "text": [
            "K value : 1 Train Score :  1.0 Cross Value Accuracy : 0.8661741985322517\n",
            "K value : 2 Train Score :  0.9944873208379272 Cross Value Accuracy : 0.88817124265053\n",
            "K value : 3 Train Score :  0.9815276891235807 Cross Value Accuracy : 0.8866651377623278\n",
            "K value : 4 Train Score :  0.9781813961585331 Cross Value Accuracy : 0.8908332796875671\n",
            "K value : 5 Train Score :  0.9710052418808874 Cross Value Accuracy : 0.8895609362259131\n",
            "K value : 6 Train Score :  0.9669239250275634 Cross Value Accuracy : 0.8933793077550319\n",
            "K value : 7 Train Score :  0.9633842047234956 Cross Value Accuracy : 0.8936115939230076\n",
            "K value : 8 Train Score :  0.958122981102149 Cross Value Accuracy : 0.8937269323205012\n",
            "K value : 9 Train Score :  0.9561693649780459 Cross Value Accuracy : 0.8922229732629502\n",
            "K value : 10 Train Score :  0.952146076326428 Cross Value Accuracy : 0.8917597420711558\n",
            "K value : 20 Train Score :  0.9348923576858353 Cross Value Accuracy : 0.8919896141796488\n",
            "K value : 30 Train Score :  0.9247567651211822 Cross Value Accuracy : 0.8912950356207888\n",
            "K value : 40 Train Score :  0.9168842724230643 Cross Value Accuracy : 0.8915266512166861\n",
            "K value : 50 Train Score :  0.9128222983036423 Cross Value Accuracy : 0.890716331917085\n"
          ]
        }
      ]
    },
    {
      "cell_type": "markdown",
      "source": [
        "**k=8 is a good cross validation accuracy of 0.893**"
      ],
      "metadata": {
        "id": "lX4SDl_QZBqB"
      }
    },
    {
      "cell_type": "code",
      "source": [
        "knn= KNeighborsClassifier(i)\n",
        "knn.fit(x_train_scaled, y_train_smt)\n",
        "print(\"KNN Score: \",knn.score(x_test_scaled,y_test))\n",
        "print( \"AUROC on the sampled dataset : \",roc_auc_score( y_test, knn.predict_proba(x_test)[:, 1]))"
      ],
      "metadata": {
        "id": "2pIt4oifGPl-",
        "colab": {
          "base_uri": "https://localhost:8080/"
        },
        "outputId": "867a5bfd-c819-4b35-f047-fa65d3ce7603"
      },
      "execution_count": 92,
      "outputs": [
        {
          "output_type": "stream",
          "name": "stdout",
          "text": [
            "KNN Score:  0.8364204677008567\n",
            "AUROC on the sampled dataset :  0.49373472314165145\n"
          ]
        }
      ]
    },
    {
      "cell_type": "markdown",
      "source": [
        "## **Decision Tree**"
      ],
      "metadata": {
        "id": "amAQvKmSZYwl"
      }
    },
    {
      "cell_type": "code",
      "source": [
        "from sklearn.tree import DecisionTreeClassifier\n",
        "from sklearn.metrics import roc_auc_score\n",
        "dt = DecisionTreeClassifier()\n",
        "dt.fit(x_train_smt,y_train_smt)\n",
        "print(\"Decision Tree Score : \", dt.score(x_train_smt,y_train_smt))\n",
        "print( \"AUROC on the sampled dataset : \",roc_auc_score( y_test, dt.predict_proba(x_test)[:, 1]))"
      ],
      "metadata": {
        "id": "ry4cZN0EGPtC",
        "colab": {
          "base_uri": "https://localhost:8080/"
        },
        "outputId": "59d49511-151d-4755-e07f-f93945fb1375"
      },
      "execution_count": 93,
      "outputs": [
        {
          "output_type": "stream",
          "name": "stdout",
          "text": [
            "Decision Tree Score :  1.0\n",
            "AUROC on the sampled dataset :  0.7989266459641635\n"
          ]
        }
      ]
    },
    {
      "cell_type": "code",
      "source": [
        "from sklearn.metrics import accuracy_score, roc_auc_score\n",
        "from sklearn.model_selection import cross_val_score #this will help me to do cross- validation\n",
        "import numpy as np\n",
        "\n",
        "for depth in [1,2,3,4,5,6,7,8,9,10,20]:\n",
        "  dt = DecisionTreeClassifier(max_depth=depth) # will tell the DT to not grow past the given threhsold\n",
        "  # Fit dt to the training set\n",
        "  dt.fit(x_train_smt, y_train_smt) # the model is trained\n",
        "  trainAccuracy = accuracy_score(y_train_smt, dt.predict(x_train_smt)) # this is useless information - i am showing to prove a point\n",
        "  dt = DecisionTreeClassifier(max_depth=depth) # a fresh model which is not trained yet\n",
        "  valAccuracy = cross_val_score(dt, x_test_scaled, y_test, cv=10) # syntax : cross_val_Score(freshModel,fts, target, cv= 10/5)\n",
        "  print(\"Depth  : \", depth, \" Training Accuracy : \", trainAccuracy, \" Cross val score : \" ,np.mean(valAccuracy))"
      ],
      "metadata": {
        "id": "M9eTYfJ7GPxj",
        "colab": {
          "base_uri": "https://localhost:8080/"
        },
        "outputId": "b5533fcc-603d-4e02-dfca-b7746d9fee93"
      },
      "execution_count": 94,
      "outputs": [
        {
          "output_type": "stream",
          "name": "stdout",
          "text": [
            "Depth  :  1  Training Accuracy :  0.7855664519623203  Cross val score :  0.883422251190936\n",
            "Depth  :  2  Training Accuracy :  0.8236136095475735  Cross val score :  0.8923368364018712\n",
            "Depth  :  3  Training Accuracy :  0.8579856476914447  Cross val score :  0.8960421494785631\n",
            "Depth  :  4  Training Accuracy :  0.9015454844387706  Cross val score :  0.8978952083601562\n",
            "Depth  :  5  Training Accuracy :  0.9152594827752955  Cross val score :  0.897663190421012\n",
            "Depth  :  6  Training Accuracy :  0.926478268438461  Cross val score :  0.8993990333032917\n",
            "Depth  :  7  Training Accuracy :  0.9356080388402097  Cross val score :  0.8989366067979916\n",
            "Depth  :  8  Training Accuracy :  0.9454534903963326  Cross val score :  0.8950000804686494\n",
            "Depth  :  9  Training Accuracy :  0.956130679510242  Cross val score :  0.8936090457491094\n",
            "Depth  :  10  Training Accuracy :  0.9649896516373624  Cross val score :  0.8944192309342945\n",
            "Depth  :  20  Training Accuracy :  0.9989941778370955  Cross val score :  0.8717293517445602\n"
          ]
        }
      ]
    },
    {
      "cell_type": "markdown",
      "source": [
        "**k= 6 is the good cross validation score of 0.898**"
      ],
      "metadata": {
        "id": "nKgnYLsTZxDw"
      }
    },
    {
      "cell_type": "code",
      "source": [
        "dt = DecisionTreeClassifier(max_depth=5)\n",
        "dt.fit(x_train_smt,y_train_smt)\n",
        "print(\"Decision Tree Score : \", dt.score(x_train_smt,y_train_smt))\n",
        "print( \"AUROC on the sampled dataset : \",roc_auc_score( y_test, dt.predict_proba(x_test)[:, 1]))"
      ],
      "metadata": {
        "id": "xO4z4YhHGP2B",
        "colab": {
          "base_uri": "https://localhost:8080/"
        },
        "outputId": "fe1d938f-2285-47ea-fec7-1b18acf7ebec"
      },
      "execution_count": 95,
      "outputs": [
        {
          "output_type": "stream",
          "name": "stdout",
          "text": [
            "Decision Tree Score :  0.9152594827752955\n",
            "AUROC on the sampled dataset :  0.8785362637139552\n"
          ]
        }
      ]
    },
    {
      "cell_type": "markdown",
      "source": [
        "## **XG Boost**"
      ],
      "metadata": {
        "id": "Z3j2oVIfaIne"
      }
    },
    {
      "cell_type": "code",
      "source": [
        "import xgboost as xgb\n",
        "from sklearn.model_selection import cross_val_score\n",
        "import numpy as np\n",
        "for lr in [0.01,0.02,0.03,0.04,0.05,0.1,0.11,0.12,0.13,0.14,0.15,0.2,0.5,0.7,1]:\n",
        "  model = xgb.XGBClassifier(learning_rate = lr, n_estimators=100, verbosity = 0) # initialise the model\n",
        "  model.fit(x_train_smt,y_train_smt) #train the model\n",
        "  print(\"Learning rate : \", lr,\" Train score : \", model.score(x_train_smt,y_train_smt),\" Cross-Val score : \", np.mean(cross_val_score(model, x_test, y_test, cv=10)))\n"
      ],
      "metadata": {
        "id": "0JiT2MhlGP6a",
        "colab": {
          "base_uri": "https://localhost:8080/"
        },
        "outputId": "f6268ade-7bab-4a0e-85fc-693c38492649"
      },
      "execution_count": 96,
      "outputs": [
        {
          "output_type": "stream",
          "name": "stdout",
          "text": [
            "Learning rate :  0.01  Train score :  0.9398827830325538  Cross-Val score :  0.8948848761855714\n",
            "Learning rate :  0.02  Train score :  0.9513917097042496  Cross-Val score :  0.8980101444144027\n",
            "Learning rate :  0.03  Train score :  0.9610243911874504  Cross-Val score :  0.9015982414917814\n",
            "Learning rate :  0.04  Train score :  0.9657246755256388  Cross-Val score :  0.9022932223938886\n",
            "Learning rate :  0.05  Train score :  0.9694771659026287  Cross-Val score :  0.9022929541650573\n",
            "Learning rate :  0.1  Train score :  0.9775044004719627  Cross-Val score :  0.9013668941247156\n",
            "Learning rate :  0.11  Train score :  0.9788583918451034  Cross-Val score :  0.9015982414917814\n",
            "Learning rate :  0.12  Train score :  0.9787810209094954  Cross-Val score :  0.9012504828118966\n",
            "Learning rate :  0.13  Train score :  0.980251068686048  Cross-Val score :  0.9003237521994765\n",
            "Learning rate :  0.14  Train score :  0.9808120079692064  Cross-Val score :  0.8998617280374234\n",
            "Learning rate :  0.15  Train score :  0.9815663745913847  Cross-Val score :  0.9010194036736621\n",
            "Learning rate :  0.2  Train score :  0.9835586761832917  Cross-Val score :  0.9018295888588475\n",
            "Learning rate :  0.5  Train score :  0.9948935182498695  Cross-Val score :  0.8961568173039783\n",
            "Learning rate :  0.7  Train score :  0.9976208437300528  Cross-Val score :  0.8982400165228961\n",
            "Learning rate :  1  Train score :  0.9996711735236659  Cross-Val score :  0.8966196461525258\n"
          ]
        }
      ]
    },
    {
      "cell_type": "markdown",
      "source": [
        "**Learning Rate 0.4 is getting the best cross validation score of 0.902**"
      ],
      "metadata": {
        "id": "cxOxunZxbBUJ"
      }
    },
    {
      "cell_type": "markdown",
      "source": [
        "## **Random Forest**"
      ],
      "metadata": {
        "id": "XwsL9bqpbiN1"
      }
    },
    {
      "cell_type": "code",
      "source": [
        "from sklearn.ensemble import RandomForestClassifier\n",
        "rf= RandomForestClassifier(max_depth=2,n_estimators=100,max_features=\"sqrt\")    #max_depth=log(no of features)\n",
        "rf.fit(x_train, y_train)\n",
        "y_pred= rf.predict(x_test)"
      ],
      "metadata": {
        "id": "R-3qZEuuGQDa"
      },
      "execution_count": 97,
      "outputs": []
    },
    {
      "cell_type": "code",
      "source": [
        "#doing cross validation to get best value of max _depth to prevent overfitted model\n",
        "from sklearn.model_selection import cross_val_score\n",
        "from sklearn.ensemble import RandomForestClassifier\n",
        "for depth in [1,2,3,4,5,6,7,8,9,10]:\n",
        "  rf= RandomForestClassifier(max_depth=depth,n_estimators=100,max_features=\"sqrt\")   # will tell the DT to not grow past the given threhsold\n",
        "  # Fit dt to the training set\n",
        "  rf.fit(x_train, y_train) # the model is trained\n",
        "  rf= RandomForestClassifier(max_depth=depth,n_estimators=100,max_features=\"sqrt\")   # a fresh model which is not trained yet\n",
        "  valAccuracy = cross_val_score(rf, x_train, y_train, cv=10) # syntax : cross_val_Score(freshModel,fts, target, cv= 10/5)\n",
        "  print(\"Depth  : \", depth, \" Training Accuracy : \", trainAccuracy, \" Cross val score : \" ,np.mean(valAccuracy))"
      ],
      "metadata": {
        "id": "Tw5det_zGQIV",
        "colab": {
          "base_uri": "https://localhost:8080/"
        },
        "outputId": "7a520b97-e2e5-485b-9997-f88056537f2d"
      },
      "execution_count": 98,
      "outputs": [
        {
          "output_type": "stream",
          "name": "stdout",
          "text": [
            "Depth  :  1  Training Accuracy :  0.9989941778370955  Cross val score :  0.8838171896590877\n",
            "Depth  :  2  Training Accuracy :  0.9989941778370955  Cross val score :  0.8838171896590877\n",
            "Depth  :  3  Training Accuracy :  0.9989941778370955  Cross val score :  0.8850907565799673\n",
            "Depth  :  4  Training Accuracy :  0.9989941778370955  Cross val score :  0.8896639647649446\n",
            "Depth  :  5  Training Accuracy :  0.9989941778370955  Cross val score :  0.891661078788661\n",
            "Depth  :  6  Training Accuracy :  0.9989941778370955  Cross val score :  0.8943528298740443\n",
            "Depth  :  7  Training Accuracy :  0.9989941778370955  Cross val score :  0.8959159413318899\n",
            "Depth  :  8  Training Accuracy :  0.9989941778370955  Cross val score :  0.8968710788138001\n",
            "Depth  :  9  Training Accuracy :  0.9989941778370955  Cross val score :  0.8986656046765553\n",
            "Depth  :  10  Training Accuracy :  0.9989941778370955  Cross val score :  0.9003444065774115\n"
          ]
        }
      ]
    },
    {
      "cell_type": "markdown",
      "source": [
        "**Depth = 10 is giving the good cross validation score fo 0.899**"
      ],
      "metadata": {
        "id": "msI2UUP8c_H1"
      }
    },
    {
      "cell_type": "markdown",
      "source": [
        "# **Solution Statement**\n",
        "\n",
        "Models are tested, below are the AUROC value of each model\n",
        "\n",
        "*   **Logistic Regression** - AUROC Score is **0.89**\n",
        "*   **KNN** - AUROC Score is  **0.893**\n",
        "*   **Decision Tree** - AUROC Score is **0.898**\n",
        "*   **XG Boost** - AUROC Score is  **0.902**\n",
        "*   **Random Forest** - AUROC Score is **0.899**\n",
        "\n",
        "**Hence XG BOOST is giving the good AUROC Score of 0.902, so XG BOOST is the best model for customer convertion prediction**\n"
      ],
      "metadata": {
        "id": "KRT2MIY7dIFs"
      }
    },
    {
      "cell_type": "markdown",
      "source": [
        "# **Feature Importance**"
      ],
      "metadata": {
        "id": "_Wd8NsKadM73"
      }
    },
    {
      "cell_type": "code",
      "source": [
        "from xgboost import plot_importance\n",
        "\n",
        "# plot feature importance\n",
        "plot_importance(model)\n",
        "plt.show()\n",
        "\n"
      ],
      "metadata": {
        "id": "Sj0rFZ88GQNF",
        "colab": {
          "base_uri": "https://localhost:8080/",
          "height": 472
        },
        "outputId": "6605454e-f530-4dca-c0b8-b6576739500e"
      },
      "execution_count": 99,
      "outputs": [
        {
          "output_type": "display_data",
          "data": {
            "text/plain": [
              "<Figure size 640x480 with 1 Axes>"
            ],
            "image/png": "[encoded data removed]"
          },
          "metadata": {}
        }
      ]
    },
    {
      "cell_type": "code",
      "source": [
        "df.columns"
      ],
      "metadata": {
        "id": "KTtbrYtKGQR3",
        "colab": {
          "base_uri": "https://localhost:8080/"
        },
        "outputId": "8c301d56-bac1-454b-c67a-115dd4f86528"
      },
      "execution_count": 100,
      "outputs": [
        {
          "output_type": "execute_result",
          "data": {
            "text/plain": [
              "Index(['age', 'marital', 'education_qual', 'call_type', 'day', 'mon', 'dur',\n",
              "       'num_calls', 'target', 'prev_outcome_failure', 'prev_outcome_other',\n",
              "       'prev_outcome_success', 'prev_outcome_unknown', 'job_admin.',\n",
              "       'job_blue-collar', 'job_entrepreneur', 'job_housemaid',\n",
              "       'job_management', 'job_retired', 'job_self-employed', 'job_services',\n",
              "       'job_student', 'job_technician', 'job_unemployed'],\n",
              "      dtype='object')"
            ]
          },
          "metadata": {},
          "execution_count": 100
        }
      ]
    },
    {
      "cell_type": "markdown",
      "source": [
        "**f0 - Age, f1 - Job, f2 - marital status, f3- educational qualification,\n",
        "f4 - call type, f5 - day, f6 - mon, f7 -dur, f8 - number of calls,\n",
        "f9 - previous outcome f10 - y**"
      ],
      "metadata": {
        "id": "-zcxajbYp1D9"
      }
    },
    {
      "cell_type": "markdown",
      "source": [
        "### **Conclusion:**\n",
        "\n",
        "Based on the Feature Importance given by best machine Learning that will predict if a client subscribed to the insurance.\n",
        "\n",
        "The client should focused on the top few features of order given below to have them subscribed to the insurance.\n",
        "\n",
        "*   Duration - Longer the call better influncing the clients\n",
        "*   Age - Age of the person plays an important role in insurance. Middle age people are targeted more and people who suscribed to insurance also middle age people.  \n",
        "*   Day - People who subscribed to insurance are mostly mid of the month.\n",
        "*   Month - In the month of may people subscribed to insurance are more.\n",
        "*   Job - In this blue collar people are targeted more but people who subscribed more are from management job.\n"
      ],
      "metadata": {
        "id": "oLR0gIPcqBtb"
      }
    },
    {
      "cell_type": "code",
      "source": [],
      "metadata": {
        "id": "G0xE4uG2qKIF"
      },
      "execution_count": null,
      "outputs": []
    }
  ]
}